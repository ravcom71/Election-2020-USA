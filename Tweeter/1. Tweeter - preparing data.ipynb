{
 "cells": [
  {
   "cell_type": "markdown",
   "id": "attended-dairy",
   "metadata": {},
   "source": [
    "# Preparing data from Twitter"
   ]
  },
  {
   "cell_type": "code",
   "execution_count": 1,
   "id": "closed-deadline",
   "metadata": {},
   "outputs": [],
   "source": [
    "import pandas as pd\n",
    "import warnings \n",
    "warnings.filterwarnings(\"ignore\")"
   ]
  },
  {
   "cell_type": "markdown",
   "id": "premium-advocacy",
   "metadata": {},
   "source": [
    "## Tweets #DONALDTRUMP"
   ]
  },
  {
   "cell_type": "code",
   "execution_count": 2,
   "id": "spectacular-supplier",
   "metadata": {},
   "outputs": [],
   "source": [
    "hash_dt = pd.read_csv('data/hashtag_donaldtrump.csv', lineterminator='\\n')"
   ]
  },
  {
   "cell_type": "code",
   "execution_count": 3,
   "id": "minus-theta",
   "metadata": {},
   "outputs": [
    {
     "data": {
      "text/plain": [
       "Index(['created_at', 'tweet_id', 'tweet', 'likes', 'retweet_count', 'source',\n",
       "       'user_id', 'user_name', 'user_screen_name', 'user_description',\n",
       "       'user_join_date', 'user_followers_count', 'user_location', 'lat',\n",
       "       'long', 'city', 'country', 'continent', 'state', 'state_code',\n",
       "       'collected_at'],\n",
       "      dtype='object')"
      ]
     },
     "execution_count": 3,
     "metadata": {},
     "output_type": "execute_result"
    }
   ],
   "source": [
    "hash_dt.columns"
   ]
  },
  {
   "cell_type": "code",
   "execution_count": 4,
   "id": "experienced-halifax",
   "metadata": {},
   "outputs": [],
   "source": [
    "hash_dt['year'] = hash_dt.created_at.apply(lambda x: x.split('-')[0])"
   ]
  },
  {
   "cell_type": "code",
   "execution_count": 5,
   "id": "limiting-excerpt",
   "metadata": {},
   "outputs": [
    {
     "data": {
      "text/plain": [
       "(970919, 22)"
      ]
     },
     "execution_count": 5,
     "metadata": {},
     "output_type": "execute_result"
    }
   ],
   "source": [
    "hash_dt.shape"
   ]
  },
  {
   "cell_type": "code",
   "execution_count": 6,
   "id": "systematic-helen",
   "metadata": {},
   "outputs": [],
   "source": [
    "hash_dt = hash_dt[hash_dt.year=='2020'].reset_index()"
   ]
  },
  {
   "cell_type": "code",
   "execution_count": 7,
   "id": "premier-browser",
   "metadata": {},
   "outputs": [],
   "source": [
    "hash_dt.created_at = pd.to_datetime(hash_dt.created_at)"
   ]
  },
  {
   "cell_type": "code",
   "execution_count": 8,
   "id": "distinguished-cattle",
   "metadata": {},
   "outputs": [],
   "source": [
    "hash_dt.drop(['index','year'],axis=1,inplace=True)"
   ]
  },
  {
   "cell_type": "code",
   "execution_count": 9,
   "id": "dedicated-punch",
   "metadata": {},
   "outputs": [
    {
     "data": {
      "text/plain": [
       "(970919, 21)"
      ]
     },
     "execution_count": 9,
     "metadata": {},
     "output_type": "execute_result"
    }
   ],
   "source": [
    "hash_dt.shape"
   ]
  },
  {
   "cell_type": "code",
   "execution_count": 10,
   "id": "associate-nicholas",
   "metadata": {},
   "outputs": [],
   "source": [
    "hash_dt.drop(['tweet_id','collected_at'],axis=1,inplace=True)"
   ]
  },
  {
   "cell_type": "code",
   "execution_count": 11,
   "id": "outstanding-genealogy",
   "metadata": {},
   "outputs": [],
   "source": [
    "hash_dt.to_pickle('data/HASH_DT_TWEET_2020.pkl')"
   ]
  },
  {
   "cell_type": "markdown",
   "id": "passive-cannon",
   "metadata": {},
   "source": [
    "## Tweets #JOEBIDEN"
   ]
  },
  {
   "cell_type": "code",
   "execution_count": 12,
   "id": "finished-location",
   "metadata": {},
   "outputs": [],
   "source": [
    "hash_jb = pd.read_csv('data/hashtag_joebiden.csv')"
   ]
  },
  {
   "cell_type": "code",
   "execution_count": 13,
   "id": "administrative-science",
   "metadata": {},
   "outputs": [
    {
     "data": {
      "text/plain": [
       "(1059909, 21)"
      ]
     },
     "execution_count": 13,
     "metadata": {},
     "output_type": "execute_result"
    }
   ],
   "source": [
    "hash_jb.shape"
   ]
  },
  {
   "cell_type": "code",
   "execution_count": 14,
   "id": "headed-toner",
   "metadata": {},
   "outputs": [],
   "source": [
    "hash_jb['year'] = hash_jb.created_at.apply(lambda x: x.split('-')[0])"
   ]
  },
  {
   "cell_type": "code",
   "execution_count": 15,
   "id": "quality-theology",
   "metadata": {},
   "outputs": [],
   "source": [
    "hash_jb = hash_jb[hash_jb.year=='2020'].reset_index()"
   ]
  },
  {
   "cell_type": "code",
   "execution_count": 16,
   "id": "overall-retro",
   "metadata": {},
   "outputs": [],
   "source": [
    "hash_jb.created_at = pd.to_datetime(hash_jb.created_at)"
   ]
  },
  {
   "cell_type": "code",
   "execution_count": 17,
   "id": "automotive-theology",
   "metadata": {},
   "outputs": [],
   "source": [
    "hash_jb.drop(['index','year'],axis=1,inplace=True)"
   ]
  },
  {
   "cell_type": "code",
   "execution_count": 18,
   "id": "knowing-freight",
   "metadata": {},
   "outputs": [],
   "source": [
    "hash_jb = hash_jb[hash_jb.created_at.dt.year==2020]"
   ]
  },
  {
   "cell_type": "code",
   "execution_count": 19,
   "id": "forbidden-therapist",
   "metadata": {},
   "outputs": [
    {
     "data": {
      "text/plain": [
       "(786651, 21)"
      ]
     },
     "execution_count": 19,
     "metadata": {},
     "output_type": "execute_result"
    }
   ],
   "source": [
    "hash_jb.shape"
   ]
  },
  {
   "cell_type": "code",
   "execution_count": 20,
   "id": "polar-clearing",
   "metadata": {},
   "outputs": [
    {
     "data": {
      "text/plain": [
       "Index(['created_at', 'tweet_id', 'tweet', 'likes', 'retweet_count', 'source',\n",
       "       'user_id', 'user_name', 'user_screen_name', 'user_description',\n",
       "       'user_join_date', 'user_followers_count', 'user_location', 'lat',\n",
       "       'long', 'city', 'country', 'continent', 'state', 'state_code',\n",
       "       'collected_at'],\n",
       "      dtype='object')"
      ]
     },
     "execution_count": 20,
     "metadata": {},
     "output_type": "execute_result"
    }
   ],
   "source": [
    "hash_jb.columns"
   ]
  },
  {
   "cell_type": "code",
   "execution_count": 21,
   "id": "disabled-error",
   "metadata": {},
   "outputs": [],
   "source": [
    "hash_jb.drop(['tweet_id','collected_at'],axis=1,inplace=True)"
   ]
  },
  {
   "cell_type": "code",
   "execution_count": 22,
   "id": "fitted-locator",
   "metadata": {},
   "outputs": [],
   "source": [
    "hash_jb.to_pickle('data/HASH_JB_TWEET_2020.pkl')"
   ]
  },
  {
   "cell_type": "markdown",
   "id": "junior-provision",
   "metadata": {},
   "source": [
    "## Biden's tweets 2020 r."
   ]
  },
  {
   "cell_type": "code",
   "execution_count": 23,
   "id": "sweet-infrared",
   "metadata": {},
   "outputs": [],
   "source": [
    "JBT = pd.read_csv('data/JoeBidenTweets.csv')"
   ]
  },
  {
   "cell_type": "code",
   "execution_count": 24,
   "id": "searching-austria",
   "metadata": {},
   "outputs": [
    {
     "data": {
      "text/plain": [
       "(6064, 8)"
      ]
     },
     "execution_count": 24,
     "metadata": {},
     "output_type": "execute_result"
    }
   ],
   "source": [
    "JBT.shape"
   ]
  },
  {
   "cell_type": "code",
   "execution_count": 25,
   "id": "silver-craps",
   "metadata": {},
   "outputs": [
    {
     "data": {
      "text/html": [
       "<div>\n",
       "<style scoped>\n",
       "    .dataframe tbody tr th:only-of-type {\n",
       "        vertical-align: middle;\n",
       "    }\n",
       "\n",
       "    .dataframe tbody tr th {\n",
       "        vertical-align: top;\n",
       "    }\n",
       "\n",
       "    .dataframe thead th {\n",
       "        text-align: right;\n",
       "    }\n",
       "</style>\n",
       "<table border=\"1\" class=\"dataframe\">\n",
       "  <thead>\n",
       "    <tr style=\"text-align: right;\">\n",
       "      <th></th>\n",
       "      <th>id</th>\n",
       "      <th>timestamp</th>\n",
       "      <th>url</th>\n",
       "      <th>tweet</th>\n",
       "      <th>replies</th>\n",
       "      <th>retweets</th>\n",
       "      <th>quotes</th>\n",
       "      <th>likes</th>\n",
       "    </tr>\n",
       "  </thead>\n",
       "  <tbody>\n",
       "    <tr>\n",
       "      <th>0</th>\n",
       "      <td>361388562</td>\n",
       "      <td>2007-10-24 22:45</td>\n",
       "      <td>https://twitter.com/JoeBiden/status/361388562</td>\n",
       "      <td>Tune in 11:30 ET tomorrow for a live webcast o...</td>\n",
       "      <td>19</td>\n",
       "      <td>5</td>\n",
       "      <td>17</td>\n",
       "      <td>11</td>\n",
       "    </tr>\n",
       "    <tr>\n",
       "      <th>1</th>\n",
       "      <td>543984392</td>\n",
       "      <td>2007-12-29 15:35</td>\n",
       "      <td>https://twitter.com/JoeBiden/status/543984392</td>\n",
       "      <td>Iowans, there's a good chance there's a Biden ...</td>\n",
       "      <td>13</td>\n",
       "      <td>16</td>\n",
       "      <td>6</td>\n",
       "      <td>22</td>\n",
       "    </tr>\n",
       "    <tr>\n",
       "      <th>2</th>\n",
       "      <td>189287227321356289</td>\n",
       "      <td>2012-04-09 09:42</td>\n",
       "      <td>https://twitter.com/JoeBiden/status/1892872273...</td>\n",
       "      <td>We're excited to announce that @JoeBiden is be...</td>\n",
       "      <td>21</td>\n",
       "      <td>82</td>\n",
       "      <td>1</td>\n",
       "      <td>20</td>\n",
       "    </tr>\n",
       "    <tr>\n",
       "      <th>3</th>\n",
       "      <td>189287350034104320</td>\n",
       "      <td>2012-04-09 09:43</td>\n",
       "      <td>https://twitter.com/JoeBiden/status/1892873500...</td>\n",
       "      <td>Campaign staff will run this account to keep y...</td>\n",
       "      <td>144</td>\n",
       "      <td>76</td>\n",
       "      <td>37</td>\n",
       "      <td>51</td>\n",
       "    </tr>\n",
       "    <tr>\n",
       "      <th>4</th>\n",
       "      <td>189339650610036736</td>\n",
       "      <td>2012-04-09 13:11</td>\n",
       "      <td>https://twitter.com/JoeBiden/status/1893396506...</td>\n",
       "      <td>News for you this morning: VP Biden will speak...</td>\n",
       "      <td>10</td>\n",
       "      <td>54</td>\n",
       "      <td>0</td>\n",
       "      <td>5</td>\n",
       "    </tr>\n",
       "    <tr>\n",
       "      <th>...</th>\n",
       "      <td>...</td>\n",
       "      <td>...</td>\n",
       "      <td>...</td>\n",
       "      <td>...</td>\n",
       "      <td>...</td>\n",
       "      <td>...</td>\n",
       "      <td>...</td>\n",
       "      <td>...</td>\n",
       "    </tr>\n",
       "    <tr>\n",
       "      <th>6059</th>\n",
       "      <td>1322865972819251200</td>\n",
       "      <td>2020-11-01 11:40</td>\n",
       "      <td>https://twitter.com/JoeBiden/status/1322865972...</td>\n",
       "      <td>As president, I’ll build an economy that rewar...</td>\n",
       "      <td>3085</td>\n",
       "      <td>3654</td>\n",
       "      <td>480</td>\n",
       "      <td>36995</td>\n",
       "    </tr>\n",
       "    <tr>\n",
       "      <th>6060</th>\n",
       "      <td>1322871257902145536</td>\n",
       "      <td>2020-11-01 12:01</td>\n",
       "      <td>https://twitter.com/JoeBiden/status/1322871257...</td>\n",
       "      <td>Let’s put dogs back in the White House. https:...</td>\n",
       "      <td>2211</td>\n",
       "      <td>4211</td>\n",
       "      <td>1246</td>\n",
       "      <td>34240</td>\n",
       "    </tr>\n",
       "    <tr>\n",
       "      <th>6061</th>\n",
       "      <td>1322876039144636417</td>\n",
       "      <td>2020-11-01 12:20</td>\n",
       "      <td>https://twitter.com/JoeBiden/status/1322876039...</td>\n",
       "      <td>We have in our hands the ultimate power: the p...</td>\n",
       "      <td>918</td>\n",
       "      <td>1143</td>\n",
       "      <td>122</td>\n",
       "      <td>6954</td>\n",
       "    </tr>\n",
       "    <tr>\n",
       "      <th>6062</th>\n",
       "      <td>1322881072363917312</td>\n",
       "      <td>2020-11-01 12:40</td>\n",
       "      <td>https://twitter.com/JoeBiden/status/1322881072...</td>\n",
       "      <td>We need to:\\n\\nBuild bridges, not walls.\\nOpen...</td>\n",
       "      <td>1281</td>\n",
       "      <td>2255</td>\n",
       "      <td>344</td>\n",
       "      <td>16696</td>\n",
       "    </tr>\n",
       "    <tr>\n",
       "      <th>6063</th>\n",
       "      <td>1322886357535150081</td>\n",
       "      <td>2020-11-01 13:01</td>\n",
       "      <td>https://twitter.com/JoeBiden/status/1322886357...</td>\n",
       "      <td>Jodie –– you have my word: I will always stand...</td>\n",
       "      <td>168</td>\n",
       "      <td>270</td>\n",
       "      <td>37</td>\n",
       "      <td>1648</td>\n",
       "    </tr>\n",
       "  </tbody>\n",
       "</table>\n",
       "<p>6064 rows × 8 columns</p>\n",
       "</div>"
      ],
      "text/plain": [
       "                       id         timestamp  \\\n",
       "0               361388562  2007-10-24 22:45   \n",
       "1               543984392  2007-12-29 15:35   \n",
       "2      189287227321356289  2012-04-09 09:42   \n",
       "3      189287350034104320  2012-04-09 09:43   \n",
       "4      189339650610036736  2012-04-09 13:11   \n",
       "...                   ...               ...   \n",
       "6059  1322865972819251200  2020-11-01 11:40   \n",
       "6060  1322871257902145536  2020-11-01 12:01   \n",
       "6061  1322876039144636417  2020-11-01 12:20   \n",
       "6062  1322881072363917312  2020-11-01 12:40   \n",
       "6063  1322886357535150081  2020-11-01 13:01   \n",
       "\n",
       "                                                    url  \\\n",
       "0         https://twitter.com/JoeBiden/status/361388562   \n",
       "1         https://twitter.com/JoeBiden/status/543984392   \n",
       "2     https://twitter.com/JoeBiden/status/1892872273...   \n",
       "3     https://twitter.com/JoeBiden/status/1892873500...   \n",
       "4     https://twitter.com/JoeBiden/status/1893396506...   \n",
       "...                                                 ...   \n",
       "6059  https://twitter.com/JoeBiden/status/1322865972...   \n",
       "6060  https://twitter.com/JoeBiden/status/1322871257...   \n",
       "6061  https://twitter.com/JoeBiden/status/1322876039...   \n",
       "6062  https://twitter.com/JoeBiden/status/1322881072...   \n",
       "6063  https://twitter.com/JoeBiden/status/1322886357...   \n",
       "\n",
       "                                                  tweet  replies  retweets  \\\n",
       "0     Tune in 11:30 ET tomorrow for a live webcast o...       19         5   \n",
       "1     Iowans, there's a good chance there's a Biden ...       13        16   \n",
       "2     We're excited to announce that @JoeBiden is be...       21        82   \n",
       "3     Campaign staff will run this account to keep y...      144        76   \n",
       "4     News for you this morning: VP Biden will speak...       10        54   \n",
       "...                                                 ...      ...       ...   \n",
       "6059  As president, I’ll build an economy that rewar...     3085      3654   \n",
       "6060  Let’s put dogs back in the White House. https:...     2211      4211   \n",
       "6061  We have in our hands the ultimate power: the p...      918      1143   \n",
       "6062  We need to:\\n\\nBuild bridges, not walls.\\nOpen...     1281      2255   \n",
       "6063  Jodie –– you have my word: I will always stand...      168       270   \n",
       "\n",
       "      quotes  likes  \n",
       "0         17     11  \n",
       "1          6     22  \n",
       "2          1     20  \n",
       "3         37     51  \n",
       "4          0      5  \n",
       "...      ...    ...  \n",
       "6059     480  36995  \n",
       "6060    1246  34240  \n",
       "6061     122   6954  \n",
       "6062     344  16696  \n",
       "6063      37   1648  \n",
       "\n",
       "[6064 rows x 8 columns]"
      ]
     },
     "execution_count": 25,
     "metadata": {},
     "output_type": "execute_result"
    }
   ],
   "source": [
    "JBT"
   ]
  },
  {
   "cell_type": "code",
   "execution_count": 26,
   "id": "timely-genre",
   "metadata": {},
   "outputs": [],
   "source": [
    "JBT.timestamp = pd.to_datetime(JBT.timestamp)"
   ]
  },
  {
   "cell_type": "code",
   "execution_count": 27,
   "id": "minimal-poultry",
   "metadata": {},
   "outputs": [],
   "source": [
    "JBT.drop(['id','url','quotes','replies'],axis=1,inplace=True)"
   ]
  },
  {
   "cell_type": "code",
   "execution_count": 28,
   "id": "responsible-jumping",
   "metadata": {},
   "outputs": [],
   "source": [
    "JBT = JBT[JBT.timestamp.dt.year==2020]"
   ]
  },
  {
   "cell_type": "code",
   "execution_count": 29,
   "id": "formal-buyer",
   "metadata": {},
   "outputs": [],
   "source": [
    "JBT['owner'] = 'Biden'"
   ]
  },
  {
   "cell_type": "code",
   "execution_count": 30,
   "id": "fabulous-entry",
   "metadata": {},
   "outputs": [],
   "source": [
    "JBT.reset_index(inplace=True)"
   ]
  },
  {
   "cell_type": "code",
   "execution_count": 31,
   "id": "egyptian-puppy",
   "metadata": {},
   "outputs": [],
   "source": [
    "JBT.drop('index',axis=1,inplace=True)"
   ]
  },
  {
   "cell_type": "code",
   "execution_count": 32,
   "id": "embedded-opportunity",
   "metadata": {},
   "outputs": [],
   "source": [
    "JBT.to_pickle('data/JB_2020_tweet.pkl')"
   ]
  },
  {
   "cell_type": "markdown",
   "id": "suitable-despite",
   "metadata": {},
   "source": [
    "## Trump's tweets 2020 r."
   ]
  },
  {
   "cell_type": "code",
   "execution_count": 33,
   "id": "sufficient-arrow",
   "metadata": {},
   "outputs": [],
   "source": [
    "rdt = pd.read_csv('data/realdonaldtrump.csv')"
   ]
  },
  {
   "cell_type": "code",
   "execution_count": 34,
   "id": "greatest-macintosh",
   "metadata": {},
   "outputs": [
    {
     "data": {
      "text/plain": [
       "(43352, 8)"
      ]
     },
     "execution_count": 34,
     "metadata": {},
     "output_type": "execute_result"
    }
   ],
   "source": [
    "rdt.shape"
   ]
  },
  {
   "cell_type": "code",
   "execution_count": 35,
   "id": "traditional-equilibrium",
   "metadata": {},
   "outputs": [],
   "source": [
    "rdt.rename(columns={'link':'url','content':'tweet','date':'timestamp','favorites':'likes'},inplace=True)"
   ]
  },
  {
   "cell_type": "code",
   "execution_count": 36,
   "id": "searching-concern",
   "metadata": {},
   "outputs": [],
   "source": [
    "rdt.drop(['id','url','mentions','hashtags'],axis=1,inplace=True)"
   ]
  },
  {
   "cell_type": "code",
   "execution_count": 37,
   "id": "abandoned-legend",
   "metadata": {},
   "outputs": [],
   "source": [
    "rdt['owner'] = 'Trump'"
   ]
  },
  {
   "cell_type": "code",
   "execution_count": 38,
   "id": "funky-heart",
   "metadata": {},
   "outputs": [],
   "source": [
    "rdt.timestamp = pd.to_datetime(rdt.timestamp)"
   ]
  },
  {
   "cell_type": "code",
   "execution_count": 39,
   "id": "positive-airplane",
   "metadata": {},
   "outputs": [],
   "source": [
    "rdt = rdt[rdt.timestamp.dt.year==2020].reset_index()"
   ]
  },
  {
   "cell_type": "code",
   "execution_count": 40,
   "id": "excessive-style",
   "metadata": {},
   "outputs": [
    {
     "data": {
      "text/html": [
       "<div>\n",
       "<style scoped>\n",
       "    .dataframe tbody tr th:only-of-type {\n",
       "        vertical-align: middle;\n",
       "    }\n",
       "\n",
       "    .dataframe tbody tr th {\n",
       "        vertical-align: top;\n",
       "    }\n",
       "\n",
       "    .dataframe thead th {\n",
       "        text-align: right;\n",
       "    }\n",
       "</style>\n",
       "<table border=\"1\" class=\"dataframe\">\n",
       "  <thead>\n",
       "    <tr style=\"text-align: right;\">\n",
       "      <th></th>\n",
       "      <th>tweet</th>\n",
       "      <th>timestamp</th>\n",
       "      <th>retweets</th>\n",
       "      <th>likes</th>\n",
       "      <th>owner</th>\n",
       "    </tr>\n",
       "  </thead>\n",
       "  <tbody>\n",
       "    <tr>\n",
       "      <th>0</th>\n",
       "      <td>Best equipment &amp; finest military in the World....</td>\n",
       "      <td>2020-01-01 19:32:31</td>\n",
       "      <td>18799</td>\n",
       "      <td>86768</td>\n",
       "      <td>Trump</td>\n",
       "    </tr>\n",
       "    <tr>\n",
       "      <th>1</th>\n",
       "      <td>Too bad, Corey would have won! He (and I) love...</td>\n",
       "      <td>2020-01-01 19:36:54</td>\n",
       "      <td>8762</td>\n",
       "      <td>43478</td>\n",
       "      <td>Trump</td>\n",
       "    </tr>\n",
       "    <tr>\n",
       "      <th>2</th>\n",
       "      <td>Can’t believe @ ATT keeps the management after...</td>\n",
       "      <td>2020-01-01 19:46:08</td>\n",
       "      <td>17039</td>\n",
       "      <td>68041</td>\n",
       "      <td>Trump</td>\n",
       "    </tr>\n",
       "    <tr>\n",
       "      <th>3</th>\n",
       "      <td>Great job!https://twitter.com/TrumpWarRoom/sta...</td>\n",
       "      <td>2020-01-01 19:53:15</td>\n",
       "      <td>14239</td>\n",
       "      <td>60342</td>\n",
       "      <td>Trump</td>\n",
       "    </tr>\n",
       "    <tr>\n",
       "      <th>4</th>\n",
       "      <td>They don’t know how to do that!https://twitter...</td>\n",
       "      <td>2020-01-01 20:46:45</td>\n",
       "      <td>15270</td>\n",
       "      <td>76330</td>\n",
       "      <td>Trump</td>\n",
       "    </tr>\n",
       "    <tr>\n",
       "      <th>...</th>\n",
       "      <td>...</td>\n",
       "      <td>...</td>\n",
       "      <td>...</td>\n",
       "      <td>...</td>\n",
       "      <td>...</td>\n",
       "    </tr>\n",
       "    <tr>\n",
       "      <th>2408</th>\n",
       "      <td>Joe Biden was a TOTAL FAILURE in Government. H...</td>\n",
       "      <td>2020-06-17 19:00:32</td>\n",
       "      <td>23402</td>\n",
       "      <td>116377</td>\n",
       "      <td>Trump</td>\n",
       "    </tr>\n",
       "    <tr>\n",
       "      <th>2409</th>\n",
       "      <td>Will be interviewed on @ seanhannity tonight a...</td>\n",
       "      <td>2020-06-17 19:11:47</td>\n",
       "      <td>11810</td>\n",
       "      <td>56659</td>\n",
       "      <td>Trump</td>\n",
       "    </tr>\n",
       "    <tr>\n",
       "      <th>2410</th>\n",
       "      <td>pic.twitter.com/3lm1spbU8X</td>\n",
       "      <td>2020-06-17 21:27:33</td>\n",
       "      <td>4959</td>\n",
       "      <td>19344</td>\n",
       "      <td>Trump</td>\n",
       "    </tr>\n",
       "    <tr>\n",
       "      <th>2411</th>\n",
       "      <td>pic.twitter.com/vpCE5MadUz</td>\n",
       "      <td>2020-06-17 21:28:38</td>\n",
       "      <td>4627</td>\n",
       "      <td>17022</td>\n",
       "      <td>Trump</td>\n",
       "    </tr>\n",
       "    <tr>\n",
       "      <th>2412</th>\n",
       "      <td>pic.twitter.com/VLlc0BHW41</td>\n",
       "      <td>2020-06-17 21:28:52</td>\n",
       "      <td>3951</td>\n",
       "      <td>14344</td>\n",
       "      <td>Trump</td>\n",
       "    </tr>\n",
       "  </tbody>\n",
       "</table>\n",
       "<p>2413 rows × 5 columns</p>\n",
       "</div>"
      ],
      "text/plain": [
       "                                                  tweet           timestamp  \\\n",
       "0     Best equipment & finest military in the World.... 2020-01-01 19:32:31   \n",
       "1     Too bad, Corey would have won! He (and I) love... 2020-01-01 19:36:54   \n",
       "2     Can’t believe @ ATT keeps the management after... 2020-01-01 19:46:08   \n",
       "3     Great job!https://twitter.com/TrumpWarRoom/sta... 2020-01-01 19:53:15   \n",
       "4     They don’t know how to do that!https://twitter... 2020-01-01 20:46:45   \n",
       "...                                                 ...                 ...   \n",
       "2408  Joe Biden was a TOTAL FAILURE in Government. H... 2020-06-17 19:00:32   \n",
       "2409  Will be interviewed on @ seanhannity tonight a... 2020-06-17 19:11:47   \n",
       "2410                         pic.twitter.com/3lm1spbU8X 2020-06-17 21:27:33   \n",
       "2411                         pic.twitter.com/vpCE5MadUz 2020-06-17 21:28:38   \n",
       "2412                         pic.twitter.com/VLlc0BHW41 2020-06-17 21:28:52   \n",
       "\n",
       "      retweets   likes  owner  \n",
       "0        18799   86768  Trump  \n",
       "1         8762   43478  Trump  \n",
       "2        17039   68041  Trump  \n",
       "3        14239   60342  Trump  \n",
       "4        15270   76330  Trump  \n",
       "...        ...     ...    ...  \n",
       "2408     23402  116377  Trump  \n",
       "2409     11810   56659  Trump  \n",
       "2410      4959   19344  Trump  \n",
       "2411      4627   17022  Trump  \n",
       "2412      3951   14344  Trump  \n",
       "\n",
       "[2413 rows x 5 columns]"
      ]
     },
     "execution_count": 40,
     "metadata": {},
     "output_type": "execute_result"
    }
   ],
   "source": [
    "rdt.drop('index',axis=1,inplace=True)\n",
    "rdt"
   ]
  },
  {
   "cell_type": "code",
   "execution_count": 41,
   "id": "medium-finish",
   "metadata": {},
   "outputs": [],
   "source": [
    "rdt.to_pickle('data/DT_2020_tweet.pkl')"
   ]
  }
 ],
 "metadata": {
  "kernelspec": {
   "display_name": "text_mining",
   "language": "python",
   "name": "text_mining"
  },
  "language_info": {
   "codemirror_mode": {
    "name": "ipython",
    "version": 3
   },
   "file_extension": ".py",
   "mimetype": "text/x-python",
   "name": "python",
   "nbconvert_exporter": "python",
   "pygments_lexer": "ipython3",
   "version": "3.8.6"
  }
 },
 "nbformat": 4,
 "nbformat_minor": 5
}
