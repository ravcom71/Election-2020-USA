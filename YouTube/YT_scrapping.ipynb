{
 "cells": [
  {
   "cell_type": "markdown",
   "id": "037d36a9-00a0-47e1-8112-362ff9ce0fef",
   "metadata": {},
   "source": [
    "# Scrapping Youtube comments"
   ]
  },
  {
   "cell_type": "code",
   "execution_count": 15,
   "id": "soviet-reynolds",
   "metadata": {},
   "outputs": [],
   "source": [
    "from apiclient.discovery import build\n",
    "from apiclient.errors import HttpError\n",
    "from oauth2client.tools import argparser"
   ]
  },
  {
   "cell_type": "code",
   "execution_count": 16,
   "id": "handed-liability",
   "metadata": {},
   "outputs": [],
   "source": [
    "import pandas as pd\n",
    "import json"
   ]
  },
  {
   "cell_type": "code",
   "execution_count": 17,
   "id": "sealed-chance",
   "metadata": {},
   "outputs": [],
   "source": [
    "DEVELOPER_KEY = \"XXXXXXXXXXXXXXXXXXXXXXXXXXXXXXXXXXXXXXXXXXXXXXXX\"\n",
    "YOUTUBE_API_SERVICE_NAME = \"youtube\"\n",
    "YOUTUBE_API_VERSION = \"v3\""
   ]
  },
  {
   "cell_type": "code",
   "execution_count": 19,
   "id": "lesbian-evolution",
   "metadata": {},
   "outputs": [],
   "source": [
    "def youtube_search(q, max_results=50,order=\"relevance\", token=None, location=None, location_radius=None):\n",
    "\n",
    "    youtube = build(YOUTUBE_API_SERVICE_NAME, YOUTUBE_API_VERSION,\n",
    "    developerKey=DEVELOPER_KEY)\n",
    "\n",
    "    search_response = youtube.search().list(\n",
    "        q=q,\n",
    "        type=\"video\",\n",
    "        pageToken=token,\n",
    "        order = order,\n",
    "        part=\"id, snippet\",\n",
    "        maxResults=max_results,\n",
    "        location=location,\n",
    "        locationRadius=location_radius\n",
    "    ).execute()\n",
    "\n",
    "    \n",
    "\n",
    "    videos = []\n",
    "\n",
    "    for search_result in search_response.get(\"items\", []):\n",
    "        if search_result[\"id\"][\"kind\"] == \"youtube#video\":\n",
    "            videos.append(search_result)\n",
    "    try:\n",
    "        nexttok = search_response[\"nextPageToken\"]\n",
    "        return(nexttok, videos)\n",
    "    except Exception as e:\n",
    "        nexttok = \"last_page\"\n",
    "        return(nexttok, videos)\n",
    "\n",
    "\n",
    "def geo_query(video_id):\n",
    "    youtube = build(YOUTUBE_API_SERVICE_NAME, YOUTUBE_API_VERSION,\n",
    "                    developerKey=DEVELOPER_KEY)\n",
    "\n",
    "    video_response = youtube.videos().list(\n",
    "        id=video_id,\n",
    "        part='snippet, recordingDetails, statistics'\n",
    "\n",
    "    ).execute()\n",
    "\n",
    "    return video_response"
   ]
  },
  {
   "cell_type": "code",
   "execution_count": 20,
   "id": "private-cherry",
   "metadata": {},
   "outputs": [],
   "source": [
    "def build_service(filename):\n",
    "    \n",
    "    key = DEVELOPER_KEY\n",
    "\n",
    "    YOUTUBE_API_SERVICE_NAME = \"youtube\"\n",
    "    YOUTUBE_API_VERSION = \"v3\"\n",
    "    return build(YOUTUBE_API_SERVICE_NAME,\n",
    "                 YOUTUBE_API_VERSION,\n",
    "                 developerKey=key)"
   ]
  },
  {
   "cell_type": "code",
   "execution_count": 21,
   "id": "hundred-destruction",
   "metadata": {},
   "outputs": [],
   "source": [
    "# configure function parameters for required variables to pass to service\n",
    "def get_comments(part='snippet', \n",
    "                 maxResults=100, \n",
    "                 searchTerms=\"Biden, Trump, election\",\n",
    "                 textFormat='plainText',\n",
    "                 order='time',\n",
    "                 videoId='yGPfKkjDIts',\n",
    "                 station='',\n",
    "                 debate='',\n",
    "                 filename=\"plik.txt\"):\n",
    "    \n",
    "    number_comment = 0\n",
    "\n",
    "    service = build_service('../apikey.json')\n",
    "    \n",
    "    try:\n",
    "        response = service.commentThreads().list(\n",
    "            part=part,\n",
    "            maxResults=maxResults,\n",
    "            searchTerms=searchTerms,\n",
    "            textFormat=textFormat,\n",
    "            order=order,\n",
    "            videoId=videoId\n",
    "        ).execute()\n",
    "\n",
    "\n",
    "        while response:\n",
    "\n",
    "            for item in response['items']:\n",
    "                comment = item['snippet']['topLevelComment']['snippet']['textDisplay']\n",
    "                author = item['snippet']['topLevelComment']['snippet']['authorDisplayName']\n",
    "                published_time = item['snippet']['topLevelComment']['snippet']['publishedAt']\n",
    "                reply_count = item['snippet']['totalReplyCount']\n",
    "                like_count = item['snippet']['topLevelComment']['snippet']['likeCount']\n",
    "\n",
    "                dates = [published_time, author, comment, reply_count, like_count, videoId, station, debate]\n",
    "\n",
    "                try:\n",
    "                    with open(filename, 'a') as f:\n",
    "                        f.write(\"%s\\n\" % dates)\n",
    "                        number_comment += 1\n",
    "                except:\n",
    "                    continue\n",
    "\n",
    "            if 'nextPageToken' in response:\n",
    "                response = service.commentThreads().list(\n",
    "                    part=part,\n",
    "                    maxResults=maxResults,\n",
    "                    searchTerms=searchTerms,\n",
    "                    textFormat=textFormat,\n",
    "                    order=order,\n",
    "                    videoId=videoId,\n",
    "                    pageToken=response['nextPageToken']\n",
    "                ).execute()\n",
    "            else:\n",
    "                break\n",
    "\n",
    "    except:\n",
    "        print(f'{videoId} has comments disabled, or something else went wrong')\n",
    "\n",
    "    return number_comment"
   ]
  },
  {
   "cell_type": "code",
   "execution_count": 100,
   "id": "liberal-sierra",
   "metadata": {},
   "outputs": [],
   "source": [
    "# Words: Trump, TRUMP BIDEN DEBATE, biden, election 2020, president 2020, elction results, debate 2020, election usa, win election 2020,kamala harris, mike pence,\n",
    "# covid, health, inauguration,state union,united states,america,russia,china,Impeach,person,president usa\n",
    "search = 'president trump'\n",
    "searchTerms = 'Biden, Joe, Trump, Donald, election'"
   ]
  },
  {
   "cell_type": "code",
   "execution_count": 101,
   "id": "quiet-insulin",
   "metadata": {},
   "outputs": [],
   "source": [
    "video_dict = {'youID':[], 'title':[], 'pub_date':[]}"
   ]
  },
  {
   "cell_type": "code",
   "execution_count": 102,
   "id": "accomplished-glance",
   "metadata": {},
   "outputs": [],
   "source": [
    "def grab_videos(keyword, token=None):\n",
    "    res = youtube_search(keyword, token=token)\n",
    "    token = res[0]\n",
    "    videos = res[1]\n",
    "    for vid in videos:\n",
    "        video_dict['youID'].append(vid['id']['videoId'])\n",
    "        video_dict['title'].append(vid['snippet']['title'])\n",
    "        video_dict['pub_date'].append(vid['snippet']['publishedAt'])\n",
    "    print( \"added \" + str(len(videos)) + \" videos to a total of \" + str(len(video_dict['youID'])))\n",
    "    return token"
   ]
  },
  {
   "cell_type": "code",
   "execution_count": 1,
   "id": "ethical-hypothesis",
   "metadata": {},
   "outputs": [],
   "source": [
    "token = grab_videos(search)\n",
    "\n",
    "while token != \"last_page\":\n",
    "    token = grab_videos(search, token=token)"
   ]
  },
  {
   "cell_type": "code",
   "execution_count": 18,
   "id": "automated-share",
   "metadata": {},
   "outputs": [],
   "source": [
    "scrapped = []"
   ]
  },
  {
   "cell_type": "code",
   "execution_count": 315,
   "id": "efficient-panel",
   "metadata": {},
   "outputs": [
    {
     "name": "stdout",
     "output_type": "stream",
     "text": [
      "zj0oLGVhrOc has comments disabled, or something else went wrong\n",
      "wW1lY5jFNcQ has comments disabled, or something else went wrong\n",
      "byBwWvgCDmU has comments disabled, or something else went wrong\n",
      "HGAXBFYWKgM has comments disabled, or something else went wrong\n",
      "JZk6VzSLe4Y has comments disabled, or something else went wrong\n",
      "dfdtjPx6J1Y has comments disabled, or something else went wrong\n",
      "_FLo14GMYos has comments disabled, or something else went wrong\n",
      "dVxVDDYwNvU has comments disabled, or something else went wrong\n",
      "j8k8hj5VyM0 has comments disabled, or something else went wrong\n",
      "au3Zzf33vXw has comments disabled, or something else went wrong\n",
      "DZqu8ojifhU has comments disabled, or something else went wrong\n",
      "8ilyest1Z7U has comments disabled, or something else went wrong\n",
      "dodano 86 komentarzy\n"
     ]
    }
   ],
   "source": [
    "kom = 0\n",
    "for video in range(len(video_dict['youID'])):\n",
    "    if video_dict['youID'][video] not in scrapped:\n",
    "        kom += get_comments(videoId=video_dict['youID'][video], searchTerms=searchTerms, filename='komentarzeYT.txt', station=video_dict['title'][video], debate=video_dict['pub_date'][video])\n",
    "        scrapped.append(video_dict['youID'][video])\n",
    "\n",
    "print(f'Add {kom} comments')"
   ]
  },
  {
   "cell_type": "code",
   "execution_count": 73,
   "id": "marked-delaware",
   "metadata": {},
   "outputs": [
    {
     "data": {
      "text/plain": [
       "3070"
      ]
     },
     "execution_count": 73,
     "metadata": {},
     "output_type": "execute_result"
    }
   ],
   "source": [
    "len(scrapped)"
   ]
  },
  {
   "cell_type": "code",
   "execution_count": 480,
   "id": "atlantic-tucson",
   "metadata": {},
   "outputs": [],
   "source": [
    "ytdict = {'published_time':[], 'author':[], 'comment':[], 'reply_count':[], 'like_count':[], 'videoId':[], 'videotitle':[], 'videotimepublished':[]}"
   ]
  },
  {
   "cell_type": "code",
   "execution_count": 481,
   "id": "marked-reform",
   "metadata": {},
   "outputs": [],
   "source": [
    "z = open('komentarzeYT.csv',encoding='utf8')"
   ]
  },
  {
   "cell_type": "code",
   "execution_count": 482,
   "id": "prime-order",
   "metadata": {},
   "outputs": [],
   "source": [
    "d= z.readlines()"
   ]
  },
  {
   "cell_type": "code",
   "execution_count": 483,
   "id": "faced-extraction",
   "metadata": {},
   "outputs": [
    {
     "name": "stdout",
     "output_type": "stream",
     "text": [
      "['\"2020-11-13T07:24:44Z\"#k#\"People\"\"s', 'voice\"#k#\"US', 'elections', '2020', 'Joe', 'Biden', 'vs', 'Donald', 'Trump,https://www.youtube.com/watch?v=QWyrZ0-TZoo\"#k#\"0,', '0\"#k#\"UCA1A5GqCdQ\"#k#\"Final', '2020', 'Presidential', 'Debate', 'Between', 'Donald', 'Trump,', 'Joe', 'Biden', '|', 'NBC', 'News\"#k#\"2020-10-23T03:20:53Z\"\"\"']\n"
     ]
    }
   ],
   "source": [
    "print(d[2].split())"
   ]
  },
  {
   "cell_type": "code",
   "execution_count": 484,
   "id": "governing-youth",
   "metadata": {},
   "outputs": [],
   "source": [
    "string=[]\n",
    "for k in range(0,len(d)):\n",
    "    string.append(d[k])"
   ]
  },
  {
   "cell_type": "code",
   "execution_count": 485,
   "id": "eligible-timber",
   "metadata": {},
   "outputs": [
    {
     "data": {
      "text/plain": [
       "4426"
      ]
     },
     "execution_count": 485,
     "metadata": {},
     "output_type": "execute_result"
    }
   ],
   "source": [
    "len(d)"
   ]
  },
  {
   "cell_type": "code",
   "execution_count": 486,
   "id": "acquired-simulation",
   "metadata": {},
   "outputs": [],
   "source": [
    "for k in range(0,len(d)):\n",
    "    ytdict['published_time'].append(d[k].split('#k#')[0].replace('\"',''))\n",
    "    ytdict['author'].append(d[k].split('#k#')[1].replace('\"',''))\n",
    "    ytdict['comment'].append(d[k].split('#k#')[2].replace('\"',''))\n",
    "    x = d[k].split('#k#')[3].replace('\"','')\n",
    "    ytdict['reply_count'].append(x.split()[0].replace(',',''))\n",
    "    ytdict['like_count'].append(x.split()[1])\n",
    "    ytdict['videoId'].append(d[k].split('#k#')[4].replace('\"',''))\n",
    "    ytdict['videotitle'].append(d[k].split('#k#')[5].replace('\"',''))\n",
    "    s = d[k].split('#k#')[6].replace('\"','')\n",
    "    ytdict['videotimepublished'].append(s.replace('\\n',''))"
   ]
  },
  {
   "cell_type": "code",
   "execution_count": 487,
   "id": "optimum-triangle",
   "metadata": {},
   "outputs": [],
   "source": [
    "dane = pd.DataFrame.from_dict(ytdict)"
   ]
  },
  {
   "cell_type": "code",
   "execution_count": 491,
   "id": "another-values",
   "metadata": {},
   "outputs": [],
   "source": [
    "dane.videotimepublished = pd.to_datetime(dane.videotimepublished)"
   ]
  },
  {
   "cell_type": "code",
   "execution_count": 493,
   "id": "floral-arrest",
   "metadata": {},
   "outputs": [],
   "source": [
    "dane.to_pickle('YouTube_comments_DF.pkl')"
   ]
  },
  {
   "cell_type": "code",
   "execution_count": 494,
   "id": "unauthorized-tomato",
   "metadata": {},
   "outputs": [],
   "source": [
    "yt = pd.read_pickle('YouTube_comments_DF.pkl')"
   ]
  },
  {
   "cell_type": "code",
   "execution_count": 495,
   "id": "obvious-engineer",
   "metadata": {},
   "outputs": [
    {
     "data": {
      "text/html": [
       "<div>\n",
       "<style scoped>\n",
       "    .dataframe tbody tr th:only-of-type {\n",
       "        vertical-align: middle;\n",
       "    }\n",
       "\n",
       "    .dataframe tbody tr th {\n",
       "        vertical-align: top;\n",
       "    }\n",
       "\n",
       "    .dataframe thead th {\n",
       "        text-align: right;\n",
       "    }\n",
       "</style>\n",
       "<table border=\"1\" class=\"dataframe\">\n",
       "  <thead>\n",
       "    <tr style=\"text-align: right;\">\n",
       "      <th></th>\n",
       "      <th>published_time</th>\n",
       "      <th>author</th>\n",
       "      <th>comment</th>\n",
       "      <th>reply_count</th>\n",
       "      <th>like_count</th>\n",
       "      <th>videoId</th>\n",
       "      <th>videotitle</th>\n",
       "      <th>videotimepublished</th>\n",
       "    </tr>\n",
       "  </thead>\n",
       "  <tbody>\n",
       "    <tr>\n",
       "      <th>0</th>\n",
       "      <td>2020-10-22 20:00:19+00:00</td>\n",
       "      <td>Si Tran</td>\n",
       "      <td>I’m standing for president Donald Trump . I ca...</td>\n",
       "      <td>0</td>\n",
       "      <td>0</td>\n",
       "      <td>K8Z9Kqhrh5c</td>\n",
       "      <td>Watch In Full: Trump versus Biden in the first...</td>\n",
       "      <td>2020-09-30 08:00:46+00:00</td>\n",
       "    </tr>\n",
       "    <tr>\n",
       "      <th>1</th>\n",
       "      <td>2020-10-14 15:30:52+00:00</td>\n",
       "      <td>Ian A</td>\n",
       "      <td>Im trying to decide who to vote for, this make...</td>\n",
       "      <td>33</td>\n",
       "      <td>84</td>\n",
       "      <td>K8Z9Kqhrh5c</td>\n",
       "      <td>Watch In Full: Trump versus Biden in the first...</td>\n",
       "      <td>2020-09-30 08:00:46+00:00</td>\n",
       "    </tr>\n",
       "    <tr>\n",
       "      <th>2</th>\n",
       "      <td>2020-11-13 07:24:44+00:00</td>\n",
       "      <td>Peoples voice</td>\n",
       "      <td>US elections 2020 Joe Biden vs Donald Trump,ht...</td>\n",
       "      <td>0</td>\n",
       "      <td>0</td>\n",
       "      <td>UCA1A5GqCdQ</td>\n",
       "      <td>Final 2020 Presidential Debate Between Donald ...</td>\n",
       "      <td>2020-10-23 03:20:53+00:00</td>\n",
       "    </tr>\n",
       "    <tr>\n",
       "      <th>3</th>\n",
       "      <td>2020-11-10 03:59:37+00:00</td>\n",
       "      <td>Peoples voice</td>\n",
       "      <td>US elections 2020 Joe Biden vs Donald Trump\\nh...</td>\n",
       "      <td>0</td>\n",
       "      <td>0</td>\n",
       "      <td>UCA1A5GqCdQ</td>\n",
       "      <td>Final 2020 Presidential Debate Between Donald ...</td>\n",
       "      <td>2020-10-23 03:20:53+00:00</td>\n",
       "    </tr>\n",
       "    <tr>\n",
       "      <th>4</th>\n",
       "      <td>2020-11-06 16:50:01+00:00</td>\n",
       "      <td>Sean Simmons</td>\n",
       "      <td>Vote joe Biden Not Donald Trump</td>\n",
       "      <td>0</td>\n",
       "      <td>0</td>\n",
       "      <td>UCA1A5GqCdQ</td>\n",
       "      <td>Final 2020 Presidential Debate Between Donald ...</td>\n",
       "      <td>2020-10-23 03:20:53+00:00</td>\n",
       "    </tr>\n",
       "    <tr>\n",
       "      <th>...</th>\n",
       "      <td>...</td>\n",
       "      <td>...</td>\n",
       "      <td>...</td>\n",
       "      <td>...</td>\n",
       "      <td>...</td>\n",
       "      <td>...</td>\n",
       "      <td>...</td>\n",
       "      <td>...</td>\n",
       "    </tr>\n",
       "    <tr>\n",
       "      <th>4421</th>\n",
       "      <td>2020-11-07 19:21:48+00:00</td>\n",
       "      <td>Majestic</td>\n",
       "      <td>Firstly, we need to understand: unsolicited ba...</td>\n",
       "      <td>0</td>\n",
       "      <td>0</td>\n",
       "      <td>KravPVeqTCc</td>\n",
       "      <td>Joe Biden defeats Donald Trump to become 46th ...</td>\n",
       "      <td>2020-11-07 16:55:00+00:00</td>\n",
       "    </tr>\n",
       "    <tr>\n",
       "      <th>4422</th>\n",
       "      <td>2020-11-07 18:15:59+00:00</td>\n",
       "      <td>Jay H</td>\n",
       "      <td>Oh no, Fox is calling Joe Biden president elec...</td>\n",
       "      <td>0</td>\n",
       "      <td>0</td>\n",
       "      <td>KravPVeqTCc</td>\n",
       "      <td>Joe Biden defeats Donald Trump to become 46th ...</td>\n",
       "      <td>2020-11-07 16:55:00+00:00</td>\n",
       "    </tr>\n",
       "    <tr>\n",
       "      <th>4423</th>\n",
       "      <td>2020-11-07 18:05:39+00:00</td>\n",
       "      <td>Michael</td>\n",
       "      <td>We all know why Joe Biden is rushing to falsel...</td>\n",
       "      <td>0</td>\n",
       "      <td>0</td>\n",
       "      <td>KravPVeqTCc</td>\n",
       "      <td>Joe Biden defeats Donald Trump to become 46th ...</td>\n",
       "      <td>2020-11-07 16:55:00+00:00</td>\n",
       "    </tr>\n",
       "    <tr>\n",
       "      <th>4424</th>\n",
       "      <td>2020-11-07 17:20:35+00:00</td>\n",
       "      <td>Vesa Kaitera</td>\n",
       "      <td>I is highly likely, that Joe Biden will win, b...</td>\n",
       "      <td>2</td>\n",
       "      <td>9</td>\n",
       "      <td>KravPVeqTCc</td>\n",
       "      <td>Joe Biden defeats Donald Trump to become 46th ...</td>\n",
       "      <td>2020-11-07 16:55:00+00:00</td>\n",
       "    </tr>\n",
       "    <tr>\n",
       "      <th>4425</th>\n",
       "      <td>2020-11-07 17:03:05+00:00</td>\n",
       "      <td>Henry Revers</td>\n",
       "      <td>President Donald Trump please keep fighting on...</td>\n",
       "      <td>0</td>\n",
       "      <td>0</td>\n",
       "      <td>KravPVeqTCc</td>\n",
       "      <td>Joe Biden defeats Donald Trump to become 46th ...</td>\n",
       "      <td>2020-11-07 16:55:00+00:00</td>\n",
       "    </tr>\n",
       "  </tbody>\n",
       "</table>\n",
       "<p>4426 rows × 8 columns</p>\n",
       "</div>"
      ],
      "text/plain": [
       "                published_time         author  \\\n",
       "0    2020-10-22 20:00:19+00:00        Si Tran   \n",
       "1    2020-10-14 15:30:52+00:00          Ian A   \n",
       "2    2020-11-13 07:24:44+00:00  Peoples voice   \n",
       "3    2020-11-10 03:59:37+00:00  Peoples voice   \n",
       "4    2020-11-06 16:50:01+00:00   Sean Simmons   \n",
       "...                        ...            ...   \n",
       "4421 2020-11-07 19:21:48+00:00       Majestic   \n",
       "4422 2020-11-07 18:15:59+00:00          Jay H   \n",
       "4423 2020-11-07 18:05:39+00:00        Michael   \n",
       "4424 2020-11-07 17:20:35+00:00   Vesa Kaitera   \n",
       "4425 2020-11-07 17:03:05+00:00   Henry Revers   \n",
       "\n",
       "                                                comment reply_count  \\\n",
       "0     I’m standing for president Donald Trump . I ca...           0   \n",
       "1     Im trying to decide who to vote for, this make...          33   \n",
       "2     US elections 2020 Joe Biden vs Donald Trump,ht...           0   \n",
       "3     US elections 2020 Joe Biden vs Donald Trump\\nh...           0   \n",
       "4                       Vote joe Biden Not Donald Trump           0   \n",
       "...                                                 ...         ...   \n",
       "4421  Firstly, we need to understand: unsolicited ba...           0   \n",
       "4422  Oh no, Fox is calling Joe Biden president elec...           0   \n",
       "4423  We all know why Joe Biden is rushing to falsel...           0   \n",
       "4424  I is highly likely, that Joe Biden will win, b...           2   \n",
       "4425  President Donald Trump please keep fighting on...           0   \n",
       "\n",
       "     like_count      videoId  \\\n",
       "0             0  K8Z9Kqhrh5c   \n",
       "1            84  K8Z9Kqhrh5c   \n",
       "2             0  UCA1A5GqCdQ   \n",
       "3             0  UCA1A5GqCdQ   \n",
       "4             0  UCA1A5GqCdQ   \n",
       "...         ...          ...   \n",
       "4421          0  KravPVeqTCc   \n",
       "4422          0  KravPVeqTCc   \n",
       "4423          0  KravPVeqTCc   \n",
       "4424          9  KravPVeqTCc   \n",
       "4425          0  KravPVeqTCc   \n",
       "\n",
       "                                             videotitle  \\\n",
       "0     Watch In Full: Trump versus Biden in the first...   \n",
       "1     Watch In Full: Trump versus Biden in the first...   \n",
       "2     Final 2020 Presidential Debate Between Donald ...   \n",
       "3     Final 2020 Presidential Debate Between Donald ...   \n",
       "4     Final 2020 Presidential Debate Between Donald ...   \n",
       "...                                                 ...   \n",
       "4421  Joe Biden defeats Donald Trump to become 46th ...   \n",
       "4422  Joe Biden defeats Donald Trump to become 46th ...   \n",
       "4423  Joe Biden defeats Donald Trump to become 46th ...   \n",
       "4424  Joe Biden defeats Donald Trump to become 46th ...   \n",
       "4425  Joe Biden defeats Donald Trump to become 46th ...   \n",
       "\n",
       "            videotimepublished  \n",
       "0    2020-09-30 08:00:46+00:00  \n",
       "1    2020-09-30 08:00:46+00:00  \n",
       "2    2020-10-23 03:20:53+00:00  \n",
       "3    2020-10-23 03:20:53+00:00  \n",
       "4    2020-10-23 03:20:53+00:00  \n",
       "...                        ...  \n",
       "4421 2020-11-07 16:55:00+00:00  \n",
       "4422 2020-11-07 16:55:00+00:00  \n",
       "4423 2020-11-07 16:55:00+00:00  \n",
       "4424 2020-11-07 16:55:00+00:00  \n",
       "4425 2020-11-07 16:55:00+00:00  \n",
       "\n",
       "[4426 rows x 8 columns]"
      ]
     },
     "execution_count": 495,
     "metadata": {},
     "output_type": "execute_result"
    }
   ],
   "source": [
    "yt"
   ]
  },
  {
   "cell_type": "code",
   "execution_count": null,
   "id": "oriented-builder",
   "metadata": {},
   "outputs": [],
   "source": []
  }
 ],
 "metadata": {
  "kernelspec": {
   "display_name": "Python 3 (ipykernel)",
   "language": "python",
   "name": "python3"
  },
  "language_info": {
   "codemirror_mode": {
    "name": "ipython",
    "version": 3
   },
   "file_extension": ".py",
   "mimetype": "text/x-python",
   "name": "python",
   "nbconvert_exporter": "python",
   "pygments_lexer": "ipython3",
   "version": "3.8.6"
  }
 },
 "nbformat": 4,
 "nbformat_minor": 5
}
