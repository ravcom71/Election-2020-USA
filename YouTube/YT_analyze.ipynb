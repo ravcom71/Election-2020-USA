{
 "cells": [
  {
   "cell_type": "markdown",
   "id": "disabled-there",
   "metadata": {},
   "source": [
    "# Analysis of video comments on YouTube"
   ]
  },
  {
   "cell_type": "code",
   "execution_count": 1,
   "id": "96fd1a21-5b6a-4994-b9ef-f9d6555452b3",
   "metadata": {},
   "outputs": [],
   "source": [
    "import numpy as np \n",
    "import pandas as pd \n",
    "import re\n",
    "import nltk\n",
    "from nltk.corpus import abc\n",
    "from nltk.tokenize import sent_tokenize, word_tokenize\n",
    "from nltk.corpus import stopwords\n",
    "from nltk.stem import WordNetLemmatizer\n",
    "from nltk.stem.porter import *\n",
    "from nltk.stem.snowball import *\n",
    "from nltk.util import ngrams\n",
    "import string\n",
    "import spacy\n",
    "from spacy import displacy\n",
    "from spacy_langdetect import LanguageDetector\n",
    "from autocorrect import Speller\n",
    "from sklearn import preprocessing\n",
    "from sklearn.feature_extraction.text import CountVectorizer, TfidfVectorizer\n",
    "from sklearn.decomposition import PCA\n",
    "from wordcloud import WordCloud, STOPWORDS\n",
    "import gensim\n",
    "from gensim.models.word2vec import Text8Corpus\n",
    "from gensim.models import KeyedVectors\n",
    "from gensim.scripts.glove2word2vec import glove2word2vec\n",
    "from nltk.sentiment import SentimentIntensityAnalyzer\n",
    "from textblob import TextBlob\n",
    "from textblob import Word\n",
    "import seaborn as sns\n",
    "import matplotlib.pyplot as plt\n",
    "import warnings\n",
    "\n",
    "warnings.filterwarnings(\"ignore\")"
   ]
  },
  {
   "cell_type": "code",
   "execution_count": 2,
   "id": "developing-worry",
   "metadata": {},
   "outputs": [],
   "source": [
    "sp = spacy.load('en_core_web_sm')"
   ]
  },
  {
   "cell_type": "code",
   "execution_count": 4,
   "id": "civil-profit",
   "metadata": {},
   "outputs": [],
   "source": [
    "spacy_sw = sp.Defaults.stop_words # Spacy: 326"
   ]
  },
  {
   "cell_type": "code",
   "execution_count": 5,
   "id": "pregnant-aluminum",
   "metadata": {},
   "outputs": [],
   "source": [
    "nltk_sw = stopwords.words('english') #NLTK: 179"
   ]
  },
  {
   "cell_type": "code",
   "execution_count": 6,
   "id": "liquid-mainstream",
   "metadata": {},
   "outputs": [
    {
     "data": {
      "text/plain": [
       "192"
      ]
     },
     "execution_count": 6,
     "metadata": {},
     "output_type": "execute_result"
    }
   ],
   "source": [
    "len(list(STOPWORDS)) # wordcloud STOPWORDS: 192"
   ]
  },
  {
   "cell_type": "code",
   "execution_count": 7,
   "id": "alternative-digest",
   "metadata": {},
   "outputs": [],
   "source": [
    "stop_words = list(spacy_sw) + list(nltk_sw) + list(STOPWORDS)"
   ]
  },
  {
   "cell_type": "code",
   "execution_count": 8,
   "id": "magnetic-pattern",
   "metadata": {},
   "outputs": [
    {
     "data": {
      "text/plain": [
       "697"
      ]
     },
     "execution_count": 8,
     "metadata": {},
     "output_type": "execute_result"
    }
   ],
   "source": [
    "len(stop_words)"
   ]
  },
  {
   "cell_type": "code",
   "execution_count": 9,
   "id": "fixed-artist",
   "metadata": {},
   "outputs": [],
   "source": [
    "stop_words = list(dict.fromkeys(stop_words))"
   ]
  },
  {
   "cell_type": "code",
   "execution_count": 10,
   "id": "signal-japanese",
   "metadata": {},
   "outputs": [
    {
     "name": "stdout",
     "output_type": "stream",
     "text": [
      "The total number of StopWords made up of combining the 3 libraries is: 418 words.\n"
     ]
    }
   ],
   "source": [
    "print(f'The total number of StopWords made up of combining the 3 libraries is: {len(stop_words)} words.')"
   ]
  },
  {
   "cell_type": "code",
   "execution_count": 11,
   "id": "interim-batman",
   "metadata": {},
   "outputs": [],
   "source": [
    "def f_clean_text(text):\n",
    "    text = text.lower()\n",
    "    text = re.sub('\\[.*?\\]', '', text)\n",
    "    text = re.sub('[%s]' % re.escape(string.punctuation), '', text)\n",
    "    text = re.sub('\\w*\\d\\w*', '', text)\n",
    "    text = re.sub('[‘’“”…]', '', text)\n",
    "    text = re.sub('\\n', '', text)\n",
    "    return text\n",
    "\n",
    "clean_text = lambda x: f_clean_text(x)"
   ]
  },
  {
   "cell_type": "code",
   "execution_count": 12,
   "id": "short-hawaii",
   "metadata": {},
   "outputs": [],
   "source": [
    "spell = Speller()\n",
    "\n",
    "def cross_talk(txt):\n",
    "    ret = 'none'\n",
    "    pattern = r'\\[.*?\\]'\n",
    "    if re.findall(pattern, txt):\n",
    "        ret = re.findall(pattern, txt)\n",
    "    return ret\n",
    "\n",
    "def removing(txt):\n",
    "    pattern = r'\\[.*?\\]'\n",
    "    return re.sub(pattern, '', txt)\n",
    "nawiasy = lambda x: removing(x)\n",
    "\n",
    "def all_sentences(txt):\n",
    "    return len(TextBlob(txt).sentences)\n",
    "zdania = lambda x: all_sentences(x)\n",
    "\n",
    "def all_words(txt):\n",
    "    return len(TextBlob(txt).words)\n",
    "slowa = lambda x: all_words(x)\n",
    "\n",
    "def correct_word(txt):\n",
    "    corr = ''\n",
    "    corr_words=[]\n",
    "    txt = word_tokenize(txt) \n",
    "    for word in txt:\n",
    "        corr_words.append(spell(word))\n",
    "    corr = ' '.join([w for w in corr_words])\n",
    "    return corr\n",
    "correct = lambda x: correct_word(x)\n",
    "\n",
    "def f_lemat(sentence, stem=False, lemmatize=True):\n",
    "    s = sentence.lower()\n",
    "    s = re.sub(r'(?i)\\b((?:https?://|www\\d{0,3}[.]|[a-z0-9.\\-]+[.][a-z]{2,4}     /)(?:[^\\s()<>]+|\\(([^\\s()<>]+|(\\([^\\s()<>]+\\)))*\\))+(?:\\(([^\\s()<>]+|(\\([^\\s()<>]+\\)))*\\)|[^\\s`!()\\[\\]{};:\\'\".,<>?«»“”‘’]))', ' ', s)\n",
    "    #usuwam []\n",
    "    \n",
    "    s = re.sub('\\n', ' ', s)\n",
    "    s = re.sub('<.*?>',' ',s)\n",
    "    s = re.sub('\\[.*?\\]',' ', s)\n",
    "    \n",
    "    # usuwam wszystkie znaki oprócz liter\n",
    "    s = re.sub('[%s]' % re.escape(string.punctuation), ' ', s)\n",
    "    s = re.sub('\\w*\\d\\w*', ' ', s)\n",
    "    s = re.sub('[‘’“”…]', ' ', s)\n",
    "    \n",
    "    s = re.sub('[^a-zA-Z]', ' ', s)\n",
    "    # tokenizuję\n",
    "    s = word_tokenize(s) \n",
    "\n",
    "    clear_post = []\n",
    "    for word in s:\n",
    "        if (not word in stop_words) and (len(word)>2):\n",
    "                if stem:\n",
    "                    clear_post.append(porter_stremmer.stem(word))\n",
    "                elif lemmatize:\n",
    "                    clear_post.append(Word(word, pos_tag='a').lemmatize())\n",
    "                else:\n",
    "                    clear_post.append(word)\n",
    "        \n",
    "    lemmatized_output = ' '.join([w for w in clear_post])\n",
    "    \n",
    "    return lemmatized_output"
   ]
  },
  {
   "cell_type": "code",
   "execution_count": 13,
   "id": "unlimited-senior",
   "metadata": {},
   "outputs": [
    {
     "data": {
      "text/plain": [
       "(3407, 15)"
      ]
     },
     "execution_count": 13,
     "metadata": {},
     "output_type": "execute_result"
    }
   ],
   "source": [
    "df = pd.read_pickle('YT_po_lematyzacji.pkl')\n",
    "df.shape"
   ]
  },
  {
   "cell_type": "code",
   "execution_count": 14,
   "id": "bored-shareware",
   "metadata": {},
   "outputs": [
    {
     "data": {
      "text/plain": [
       "(3407, 15)"
      ]
     },
     "execution_count": 14,
     "metadata": {},
     "output_type": "execute_result"
    }
   ],
   "source": [
    "# drop duplicates\n",
    "df.drop_duplicates(subset='comment',keep='last',inplace=True)\n",
    "df.shape"
   ]
  },
  {
   "cell_type": "code",
   "execution_count": 15,
   "id": "promising-position",
   "metadata": {},
   "outputs": [],
   "source": [
    "df.reply_count = df.reply_count.astype(int)\n",
    "df.like_count = df.like_count.astype(int)"
   ]
  },
  {
   "cell_type": "code",
   "execution_count": 16,
   "id": "proper-album",
   "metadata": {},
   "outputs": [
    {
     "data": {
      "text/plain": [
       "1109"
      ]
     },
     "execution_count": 16,
     "metadata": {},
     "output_type": "execute_result"
    }
   ],
   "source": [
    "df.videoId.nunique()"
   ]
  },
  {
   "cell_type": "code",
   "execution_count": 17,
   "id": "fatal-excess",
   "metadata": {},
   "outputs": [
    {
     "name": "stdout",
     "output_type": "stream",
     "text": [
      "The number of comments: 3407\n",
      "The number of videos: 1109\n",
      "Number of unique authors of comments: 2970\n"
     ]
    }
   ],
   "source": [
    "print(f'The number of comments: {df.shape[0]}\\nThe number of videos: {df.videoId.nunique()}\\nNumber of unique authors of comments: {df.author.nunique()}')"
   ]
  },
  {
   "cell_type": "code",
   "execution_count": 19,
   "id": "piano-border",
   "metadata": {},
   "outputs": [
    {
     "name": "stdout",
     "output_type": "stream",
     "text": [
      "Maximum number of responses: 500\n",
      "Minimum number of responses: 0\n",
      "Average number of responses: 20.60228940416789\n",
      "Median number of responses: 0.0\n"
     ]
    }
   ],
   "source": [
    "print(f'Maximum number of responses: {df.reply_count.max()}\\nMinimum number of responses: {df.reply_count.min()}\\nAverage number of responses: {df.reply_count.mean()}\\nMedian number of responses: {df.reply_count.median()}')"
   ]
  },
  {
   "cell_type": "code",
   "execution_count": 20,
   "id": "acoustic-hundred",
   "metadata": {},
   "outputs": [
    {
     "name": "stdout",
     "output_type": "stream",
     "text": [
      "Maximum number of likes: 52759\n",
      "Minimum likes: 0\n",
      "Average number of likes: 302.86586439683003\n",
      "Median number of likes: 1.0\n"
     ]
    }
   ],
   "source": [
    "print(f'Maximum number of likes: {df.like_count.max()}\\nMinimum likes: {df.like_count.min()}\\nAverage number of likes: {df.like_count.mean()}\\nMedian number of likes: {df.like_count.median()}')"
   ]
  },
  {
   "cell_type": "code",
   "execution_count": 21,
   "id": "heard-forestry",
   "metadata": {},
   "outputs": [],
   "source": [
    "likes = df.sort_values(by='like_count',ascending=False).reset_index()"
   ]
  },
  {
   "cell_type": "code",
   "execution_count": 22,
   "id": "capital-planet",
   "metadata": {},
   "outputs": [],
   "source": [
    "likes.drop(['index'],inplace=True,axis=1)"
   ]
  },
  {
   "cell_type": "code",
   "execution_count": 23,
   "id": "educated-paste",
   "metadata": {},
   "outputs": [
    {
     "data": {
      "text/html": [
       "<div>\n",
       "<style scoped>\n",
       "    .dataframe tbody tr th:only-of-type {\n",
       "        vertical-align: middle;\n",
       "    }\n",
       "\n",
       "    .dataframe tbody tr th {\n",
       "        vertical-align: top;\n",
       "    }\n",
       "\n",
       "    .dataframe thead th {\n",
       "        text-align: right;\n",
       "    }\n",
       "</style>\n",
       "<table border=\"1\" class=\"dataframe\">\n",
       "  <thead>\n",
       "    <tr style=\"text-align: right;\">\n",
       "      <th></th>\n",
       "      <th>published_time</th>\n",
       "      <th>author</th>\n",
       "      <th>comment</th>\n",
       "      <th>reply_count</th>\n",
       "      <th>like_count</th>\n",
       "      <th>videoId</th>\n",
       "      <th>videotitle</th>\n",
       "      <th>videotimepublished</th>\n",
       "      <th>language</th>\n",
       "      <th>lang_score</th>\n",
       "      <th>clean_text</th>\n",
       "      <th>correct</th>\n",
       "      <th>words</th>\n",
       "      <th>polarity</th>\n",
       "      <th>subjectivity</th>\n",
       "    </tr>\n",
       "  </thead>\n",
       "  <tbody>\n",
       "    <tr>\n",
       "      <th>0</th>\n",
       "      <td>2021-01-21 23:20:40+00:00</td>\n",
       "      <td>Dr. Beau Hightower</td>\n",
       "      <td>Wow. That guy actually made sense.</td>\n",
       "      <td>465</td>\n",
       "      <td>52759</td>\n",
       "      <td>xL_hnA2u-SA</td>\n",
       "      <td>We Spoke to a Lone Trump Supporter at Biden&amp;#3...</td>\n",
       "      <td>2021-01-21 22:30:08+00:00</td>\n",
       "      <td>en</td>\n",
       "      <td>0.857141</td>\n",
       "      <td>wow guy actually sense</td>\n",
       "      <td>wow guy actually sense</td>\n",
       "      <td>6</td>\n",
       "      <td>0.050000</td>\n",
       "      <td>0.550000</td>\n",
       "    </tr>\n",
       "    <tr>\n",
       "      <th>1</th>\n",
       "      <td>2020-04-09 15:51:45+00:00</td>\n",
       "      <td>KM</td>\n",
       "      <td>Problem isnt the brits who are surprised. The ...</td>\n",
       "      <td>495</td>\n",
       "      <td>44603</td>\n",
       "      <td>Kll-yYQwmuM</td>\n",
       "      <td>True cost of US healthcare shocks the British ...</td>\n",
       "      <td>2019-12-03 14:48:16+00:00</td>\n",
       "      <td>en</td>\n",
       "      <td>0.999996</td>\n",
       "      <td>problem isnt brit surprised true problem ameri...</td>\n",
       "      <td>problem isnt brit surprised true problem ameri...</td>\n",
       "      <td>14</td>\n",
       "      <td>0.225000</td>\n",
       "      <td>0.775000</td>\n",
       "    </tr>\n",
       "    <tr>\n",
       "      <th>2</th>\n",
       "      <td>2019-11-25 12:52:55+00:00</td>\n",
       "      <td>John Valdes</td>\n",
       "      <td>Even in a fake debate, Andrew Yang cant get an...</td>\n",
       "      <td>302</td>\n",
       "      <td>24103</td>\n",
       "      <td>y8EQFhj8ca4</td>\n",
       "      <td>2020 Democratic Debate - SNL</td>\n",
       "      <td>2019-11-24 08:47:25+00:00</td>\n",
       "      <td>en</td>\n",
       "      <td>0.999996</td>\n",
       "      <td>fake debate andrew yang cant airtime</td>\n",
       "      <td>fake debate andrew yang cant airtime</td>\n",
       "      <td>11</td>\n",
       "      <td>-0.500000</td>\n",
       "      <td>1.000000</td>\n",
       "    </tr>\n",
       "    <tr>\n",
       "      <th>3</th>\n",
       "      <td>2020-10-01 11:32:09+00:00</td>\n",
       "      <td>CNDBLOOD</td>\n",
       "      <td>Wait so this isnt a meme edit?</td>\n",
       "      <td>154</td>\n",
       "      <td>23881</td>\n",
       "      <td>oXOlvWw8uXs</td>\n",
       "      <td>US candidate Joe Biden dances to mega-hit &amp;#39...</td>\n",
       "      <td>2020-09-16 13:28:11+00:00</td>\n",
       "      <td>en</td>\n",
       "      <td>0.999998</td>\n",
       "      <td>wait isnt meme edit</td>\n",
       "      <td>wait isnt meme edit</td>\n",
       "      <td>7</td>\n",
       "      <td>0.000000</td>\n",
       "      <td>0.000000</td>\n",
       "    </tr>\n",
       "    <tr>\n",
       "      <th>4</th>\n",
       "      <td>2020-11-09 20:37:52+00:00</td>\n",
       "      <td>Recker</td>\n",
       "      <td>“Never underestimate the power of stupid peopl...</td>\n",
       "      <td>454</td>\n",
       "      <td>23064</td>\n",
       "      <td>mc7_GzMOodY</td>\n",
       "      <td>These Trump supporters think the election was ...</td>\n",
       "      <td>2020-11-09 20:29:05+00:00</td>\n",
       "      <td>en</td>\n",
       "      <td>0.999997</td>\n",
       "      <td>underestimate power stupid people large group ...</td>\n",
       "      <td>underestimate power stupid people large group ...</td>\n",
       "      <td>14</td>\n",
       "      <td>-0.292857</td>\n",
       "      <td>0.714286</td>\n",
       "    </tr>\n",
       "    <tr>\n",
       "      <th>...</th>\n",
       "      <td>...</td>\n",
       "      <td>...</td>\n",
       "      <td>...</td>\n",
       "      <td>...</td>\n",
       "      <td>...</td>\n",
       "      <td>...</td>\n",
       "      <td>...</td>\n",
       "      <td>...</td>\n",
       "      <td>...</td>\n",
       "      <td>...</td>\n",
       "      <td>...</td>\n",
       "      <td>...</td>\n",
       "      <td>...</td>\n",
       "      <td>...</td>\n",
       "      <td>...</td>\n",
       "    </tr>\n",
       "    <tr>\n",
       "      <th>3402</th>\n",
       "      <td>2020-11-03 03:24:37+00:00</td>\n",
       "      <td>Kyle Jackson</td>\n",
       "      <td>Trafalgar is a Republican pollster whose goal ...</td>\n",
       "      <td>0</td>\n",
       "      <td>0</td>\n",
       "      <td>bdzBalc1uVs</td>\n",
       "      <td>Pollster Who Correctly Predicted 2016 Discusse...</td>\n",
       "      <td>2020-11-03 01:29:26+00:00</td>\n",
       "      <td>en</td>\n",
       "      <td>0.999997</td>\n",
       "      <td>trafalgar republican pollster goal pretend don...</td>\n",
       "      <td>trafalgar republican poster goal pretend donal...</td>\n",
       "      <td>137</td>\n",
       "      <td>-0.013187</td>\n",
       "      <td>0.552381</td>\n",
       "    </tr>\n",
       "    <tr>\n",
       "      <th>3403</th>\n",
       "      <td>2020-11-25 11:36:42+00:00</td>\n",
       "      <td>BLACK NAP0LE0N</td>\n",
       "      <td>Make no mistake... Donald Trump was legitimate...</td>\n",
       "      <td>0</td>\n",
       "      <td>0</td>\n",
       "      <td>LXsiYZERYCk</td>\n",
       "      <td>It is clear &amp;#39;something fishy&amp;#39; took pla...</td>\n",
       "      <td>2020-11-25 10:45:26+00:00</td>\n",
       "      <td>en</td>\n",
       "      <td>0.999996</td>\n",
       "      <td>mistake donald trump legitimately voted presid...</td>\n",
       "      <td>mistake donald trump legitimately voted presid...</td>\n",
       "      <td>91</td>\n",
       "      <td>0.200000</td>\n",
       "      <td>0.644444</td>\n",
       "    </tr>\n",
       "    <tr>\n",
       "      <th>3404</th>\n",
       "      <td>2020-11-25 12:06:09+00:00</td>\n",
       "      <td>TheKira699</td>\n",
       "      <td>Let\\s face it, Donald Trump had a woeful turn ...</td>\n",
       "      <td>0</td>\n",
       "      <td>0</td>\n",
       "      <td>LXsiYZERYCk</td>\n",
       "      <td>It is clear &amp;#39;something fishy&amp;#39; took pla...</td>\n",
       "      <td>2020-11-25 10:45:26+00:00</td>\n",
       "      <td>en</td>\n",
       "      <td>0.999998</td>\n",
       "      <td>let face donald trump woeful turn people sick ...</td>\n",
       "      <td>let face donald trump useful turn people sick ...</td>\n",
       "      <td>245</td>\n",
       "      <td>-0.052381</td>\n",
       "      <td>0.448095</td>\n",
       "    </tr>\n",
       "    <tr>\n",
       "      <th>3405</th>\n",
       "      <td>2020-11-08 06:27:21+00:00</td>\n",
       "      <td>Ben Main</td>\n",
       "      <td>Just give it up. The Trump campaign barely has...</td>\n",
       "      <td>1</td>\n",
       "      <td>0</td>\n",
       "      <td>MW63gVirPNs</td>\n",
       "      <td>ELECTION 2020: Trump Campaign Scores Another W...</td>\n",
       "      <td>2020-11-06 21:34:09+00:00</td>\n",
       "      <td>en</td>\n",
       "      <td>0.999998</td>\n",
       "      <td>trump campaign barely support gop point wonder...</td>\n",
       "      <td>trump campaign barely support gop point wonder...</td>\n",
       "      <td>118</td>\n",
       "      <td>0.108333</td>\n",
       "      <td>0.583333</td>\n",
       "    </tr>\n",
       "    <tr>\n",
       "      <th>3406</th>\n",
       "      <td>2020-11-07 17:03:05+00:00</td>\n",
       "      <td>Henry Revers</td>\n",
       "      <td>President Donald Trump please keep fighting on...</td>\n",
       "      <td>0</td>\n",
       "      <td>0</td>\n",
       "      <td>KravPVeqTCc</td>\n",
       "      <td>Joe Biden defeats Donald Trump to become 46th ...</td>\n",
       "      <td>2020-11-07 16:55:00+00:00</td>\n",
       "      <td>en</td>\n",
       "      <td>0.999999</td>\n",
       "      <td>president donald trump fighting found win grac...</td>\n",
       "      <td>president donald trump fighting found win grac...</td>\n",
       "      <td>388</td>\n",
       "      <td>0.036407</td>\n",
       "      <td>0.454166</td>\n",
       "    </tr>\n",
       "  </tbody>\n",
       "</table>\n",
       "<p>3407 rows × 15 columns</p>\n",
       "</div>"
      ],
      "text/plain": [
       "                published_time              author  \\\n",
       "0    2021-01-21 23:20:40+00:00  Dr. Beau Hightower   \n",
       "1    2020-04-09 15:51:45+00:00                  KM   \n",
       "2    2019-11-25 12:52:55+00:00         John Valdes   \n",
       "3    2020-10-01 11:32:09+00:00            CNDBLOOD   \n",
       "4    2020-11-09 20:37:52+00:00              Recker   \n",
       "...                        ...                 ...   \n",
       "3402 2020-11-03 03:24:37+00:00        Kyle Jackson   \n",
       "3403 2020-11-25 11:36:42+00:00      BLACK NAP0LE0N   \n",
       "3404 2020-11-25 12:06:09+00:00          TheKira699   \n",
       "3405 2020-11-08 06:27:21+00:00            Ben Main   \n",
       "3406 2020-11-07 17:03:05+00:00        Henry Revers   \n",
       "\n",
       "                                                comment  reply_count  \\\n",
       "0                    Wow. That guy actually made sense.          465   \n",
       "1     Problem isnt the brits who are surprised. The ...          495   \n",
       "2     Even in a fake debate, Andrew Yang cant get an...          302   \n",
       "3                        Wait so this isnt a meme edit?          154   \n",
       "4     “Never underestimate the power of stupid peopl...          454   \n",
       "...                                                 ...          ...   \n",
       "3402  Trafalgar is a Republican pollster whose goal ...            0   \n",
       "3403  Make no mistake... Donald Trump was legitimate...            0   \n",
       "3404  Let\\s face it, Donald Trump had a woeful turn ...            0   \n",
       "3405  Just give it up. The Trump campaign barely has...            1   \n",
       "3406  President Donald Trump please keep fighting on...            0   \n",
       "\n",
       "      like_count      videoId  \\\n",
       "0          52759  xL_hnA2u-SA   \n",
       "1          44603  Kll-yYQwmuM   \n",
       "2          24103  y8EQFhj8ca4   \n",
       "3          23881  oXOlvWw8uXs   \n",
       "4          23064  mc7_GzMOodY   \n",
       "...          ...          ...   \n",
       "3402           0  bdzBalc1uVs   \n",
       "3403           0  LXsiYZERYCk   \n",
       "3404           0  LXsiYZERYCk   \n",
       "3405           0  MW63gVirPNs   \n",
       "3406           0  KravPVeqTCc   \n",
       "\n",
       "                                             videotitle  \\\n",
       "0     We Spoke to a Lone Trump Supporter at Biden&#3...   \n",
       "1     True cost of US healthcare shocks the British ...   \n",
       "2                          2020 Democratic Debate - SNL   \n",
       "3     US candidate Joe Biden dances to mega-hit &#39...   \n",
       "4     These Trump supporters think the election was ...   \n",
       "...                                                 ...   \n",
       "3402  Pollster Who Correctly Predicted 2016 Discusse...   \n",
       "3403  It is clear &#39;something fishy&#39; took pla...   \n",
       "3404  It is clear &#39;something fishy&#39; took pla...   \n",
       "3405  ELECTION 2020: Trump Campaign Scores Another W...   \n",
       "3406  Joe Biden defeats Donald Trump to become 46th ...   \n",
       "\n",
       "            videotimepublished language  lang_score  \\\n",
       "0    2021-01-21 22:30:08+00:00       en    0.857141   \n",
       "1    2019-12-03 14:48:16+00:00       en    0.999996   \n",
       "2    2019-11-24 08:47:25+00:00       en    0.999996   \n",
       "3    2020-09-16 13:28:11+00:00       en    0.999998   \n",
       "4    2020-11-09 20:29:05+00:00       en    0.999997   \n",
       "...                        ...      ...         ...   \n",
       "3402 2020-11-03 01:29:26+00:00       en    0.999997   \n",
       "3403 2020-11-25 10:45:26+00:00       en    0.999996   \n",
       "3404 2020-11-25 10:45:26+00:00       en    0.999998   \n",
       "3405 2020-11-06 21:34:09+00:00       en    0.999998   \n",
       "3406 2020-11-07 16:55:00+00:00       en    0.999999   \n",
       "\n",
       "                                             clean_text  \\\n",
       "0                                wow guy actually sense   \n",
       "1     problem isnt brit surprised true problem ameri...   \n",
       "2                  fake debate andrew yang cant airtime   \n",
       "3                                   wait isnt meme edit   \n",
       "4     underestimate power stupid people large group ...   \n",
       "...                                                 ...   \n",
       "3402  trafalgar republican pollster goal pretend don...   \n",
       "3403  mistake donald trump legitimately voted presid...   \n",
       "3404  let face donald trump woeful turn people sick ...   \n",
       "3405  trump campaign barely support gop point wonder...   \n",
       "3406  president donald trump fighting found win grac...   \n",
       "\n",
       "                                                correct  words  polarity  \\\n",
       "0                                wow guy actually sense      6  0.050000   \n",
       "1     problem isnt brit surprised true problem ameri...     14  0.225000   \n",
       "2                  fake debate andrew yang cant airtime     11 -0.500000   \n",
       "3                                   wait isnt meme edit      7  0.000000   \n",
       "4     underestimate power stupid people large group ...     14 -0.292857   \n",
       "...                                                 ...    ...       ...   \n",
       "3402  trafalgar republican poster goal pretend donal...    137 -0.013187   \n",
       "3403  mistake donald trump legitimately voted presid...     91  0.200000   \n",
       "3404  let face donald trump useful turn people sick ...    245 -0.052381   \n",
       "3405  trump campaign barely support gop point wonder...    118  0.108333   \n",
       "3406  president donald trump fighting found win grac...    388  0.036407   \n",
       "\n",
       "      subjectivity  \n",
       "0         0.550000  \n",
       "1         0.775000  \n",
       "2         1.000000  \n",
       "3         0.000000  \n",
       "4         0.714286  \n",
       "...            ...  \n",
       "3402      0.552381  \n",
       "3403      0.644444  \n",
       "3404      0.448095  \n",
       "3405      0.583333  \n",
       "3406      0.454166  \n",
       "\n",
       "[3407 rows x 15 columns]"
      ]
     },
     "execution_count": 23,
     "metadata": {},
     "output_type": "execute_result"
    }
   ],
   "source": [
    "likes"
   ]
  },
  {
   "cell_type": "code",
   "execution_count": 24,
   "id": "early-affiliation",
   "metadata": {},
   "outputs": [
    {
     "data": {
      "image/png": "[encoded data removed]",
      "text/plain": [
       "<Figure size 1440x576 with 1 Axes>"
      ]
     },
     "metadata": {
      "needs_background": "light"
     },
     "output_type": "display_data"
    }
   ],
   "source": [
    "plt.figure(figsize=(20,8))\n",
    "sns.barplot(data=likes[:50],x=likes.index[:50],y='like_count');"
   ]
  },
  {
   "cell_type": "code",
   "execution_count": 25,
   "id": "obvious-victor",
   "metadata": {},
   "outputs": [],
   "source": [
    "replies = df.sort_values(by='reply_count',ascending=False).reset_index()\n",
    "replies.drop(['index'],inplace=True,axis=1)"
   ]
  },
  {
   "cell_type": "code",
   "execution_count": 26,
   "id": "applicable-theater",
   "metadata": {},
   "outputs": [
    {
     "data": {
      "image/png": "[encoded data removed]",
      "text/plain": [
       "<Figure size 1440x576 with 1 Axes>"
      ]
     },
     "metadata": {
      "needs_background": "light"
     },
     "output_type": "display_data"
    }
   ],
   "source": [
    "plt.figure(figsize=(20,8))\n",
    "sns.barplot(data=replies[:50],x=replies.index[:50],y='reply_count');"
   ]
  },
  {
   "cell_type": "markdown",
   "id": "apart-density",
   "metadata": {},
   "source": [
    "### Language detection"
   ]
  },
  {
   "cell_type": "code",
   "execution_count": 27,
   "id": "3a10b395-c7a6-490d-94fc-e2d7a986ad8c",
   "metadata": {},
   "outputs": [],
   "source": [
    "from spacy.language import Language\n",
    "from spacy_langdetect import LanguageDetector"
   ]
  },
  {
   "cell_type": "code",
   "execution_count": 28,
   "id": "ad205772-e4b6-49fa-a631-3abbe440ee55",
   "metadata": {},
   "outputs": [],
   "source": [
    "def get_lang_detector(nlp, name):\n",
    "    return LanguageDetector()"
   ]
  },
  {
   "cell_type": "code",
   "execution_count": 29,
   "id": "90db9bad-9bc1-464f-969d-c40e8e120f1e",
   "metadata": {},
   "outputs": [
    {
     "data": {
      "text/plain": [
       "<spacy_langdetect.spacy_langdetect.LanguageDetector at 0x2a7ee678160>"
      ]
     },
     "execution_count": 29,
     "metadata": {},
     "output_type": "execute_result"
    }
   ],
   "source": [
    "Language.factory(\"language_detector\", func=get_lang_detector)\n",
    "sp.add_pipe('language_detector', last=True)"
   ]
  },
  {
   "cell_type": "code",
   "execution_count": 30,
   "id": "logical-enhancement",
   "metadata": {},
   "outputs": [],
   "source": [
    "def detect_lang(text_content):\n",
    "    doc = sp(text_content) \n",
    "    detect_language = doc._.language \n",
    "    return detect_language['language'], detect_language['score']"
   ]
  },
  {
   "cell_type": "code",
   "execution_count": 31,
   "id": "hired-looking",
   "metadata": {},
   "outputs": [],
   "source": [
    "df['language'], df['lang_score'] = zip(*[ detect_lang(x) for x in df.comment ])"
   ]
  },
  {
   "cell_type": "code",
   "execution_count": 32,
   "id": "actual-fitness",
   "metadata": {},
   "outputs": [
    {
     "data": {
      "text/plain": [
       "array(['en', 'nl', 'da', 'af', 'de', 'ca', 'es'], dtype=object)"
      ]
     },
     "execution_count": 32,
     "metadata": {},
     "output_type": "execute_result"
    }
   ],
   "source": [
    "df.language.unique()"
   ]
  },
  {
   "cell_type": "markdown",
   "id": "impressive-positive",
   "metadata": {},
   "source": [
    "### Elimination of comments in languages other than English"
   ]
  },
  {
   "cell_type": "code",
   "execution_count": 33,
   "id": "elementary-steering",
   "metadata": {},
   "outputs": [],
   "source": [
    "non_eng=[]\n",
    "for x in df.language.unique():\n",
    "    if x != 'en':\n",
    "        for s in df[df.language==x].index:\n",
    "            non_eng.append(s)"
   ]
  },
  {
   "cell_type": "code",
   "execution_count": 34,
   "id": "curious-australian",
   "metadata": {},
   "outputs": [
    {
     "name": "stdout",
     "output_type": "stream",
     "text": [
      "[48, 62, 150, 514, 1615, 1705, 2439, 2608, 2669, 2713, 2779, 3483, 3587, 3612, 53, 72, 98, 532, 1310, 2121, 2616, 3844, 4327, 69, 77, 235, 257, 767, 893, 1254, 1826, 2638, 3077, 3839, 149, 365, 781, 1140, 2178, 279, 1762, 2177, 2690, 3985]\n"
     ]
    }
   ],
   "source": [
    "print(non_eng)"
   ]
  },
  {
   "cell_type": "code",
   "execution_count": 35,
   "id": "characteristic-dancing",
   "metadata": {},
   "outputs": [],
   "source": [
    "df.drop([48, 62, 150, 514, 1615, 1705, 2439, 2608, 2669, 2713, 2779, 3483, 3587, 3612, 53, 72, 98, 532, 1310, 2121, 2616, 3844, 4327, 69, 77, 235, 257, 767, 893, 1254, 1826, 2638, 3077, 3839, 149, 365, 781, 1140, 2178, 279, 1762, 2177, 2690, 3985],inplace=True)"
   ]
  },
  {
   "cell_type": "code",
   "execution_count": 36,
   "id": "affecting-minneapolis",
   "metadata": {},
   "outputs": [
    {
     "data": {
      "text/html": [
       "<div>\n",
       "<style scoped>\n",
       "    .dataframe tbody tr th:only-of-type {\n",
       "        vertical-align: middle;\n",
       "    }\n",
       "\n",
       "    .dataframe tbody tr th {\n",
       "        vertical-align: top;\n",
       "    }\n",
       "\n",
       "    .dataframe thead th {\n",
       "        text-align: right;\n",
       "    }\n",
       "</style>\n",
       "<table border=\"1\" class=\"dataframe\">\n",
       "  <thead>\n",
       "    <tr style=\"text-align: right;\">\n",
       "      <th></th>\n",
       "      <th>published_time</th>\n",
       "      <th>author</th>\n",
       "      <th>comment</th>\n",
       "      <th>reply_count</th>\n",
       "      <th>like_count</th>\n",
       "      <th>videoId</th>\n",
       "      <th>videotitle</th>\n",
       "      <th>videotimepublished</th>\n",
       "      <th>language</th>\n",
       "      <th>lang_score</th>\n",
       "      <th>clean_text</th>\n",
       "      <th>correct</th>\n",
       "      <th>words</th>\n",
       "      <th>polarity</th>\n",
       "      <th>subjectivity</th>\n",
       "    </tr>\n",
       "  </thead>\n",
       "  <tbody>\n",
       "    <tr>\n",
       "      <th>46</th>\n",
       "      <td>2020-11-13 07:24:44+00:00</td>\n",
       "      <td>Peoples voice</td>\n",
       "      <td>US elections 2020 Joe Biden vs Donald Trump,ht...</td>\n",
       "      <td>0</td>\n",
       "      <td>0</td>\n",
       "      <td>UCA1A5GqCdQ</td>\n",
       "      <td>Final 2020 Presidential Debate Between Donald ...</td>\n",
       "      <td>2020-10-23 03:20:53+00:00</td>\n",
       "      <td>en</td>\n",
       "      <td>0.714283</td>\n",
       "      <td>election joe biden donald trump</td>\n",
       "      <td>election joe biden donald trump</td>\n",
       "      <td>11</td>\n",
       "      <td>0.000000</td>\n",
       "      <td>0.000000</td>\n",
       "    </tr>\n",
       "    <tr>\n",
       "      <th>47</th>\n",
       "      <td>2020-11-10 03:59:37+00:00</td>\n",
       "      <td>Peoples voice</td>\n",
       "      <td>US elections 2020 Joe Biden vs Donald Trump\\nh...</td>\n",
       "      <td>0</td>\n",
       "      <td>0</td>\n",
       "      <td>UCA1A5GqCdQ</td>\n",
       "      <td>Final 2020 Presidential Debate Between Donald ...</td>\n",
       "      <td>2020-10-23 03:20:53+00:00</td>\n",
       "      <td>en</td>\n",
       "      <td>0.999995</td>\n",
       "      <td>election joe biden donald trump nhttps</td>\n",
       "      <td>election joe biden donald trump https</td>\n",
       "      <td>11</td>\n",
       "      <td>0.000000</td>\n",
       "      <td>0.000000</td>\n",
       "    </tr>\n",
       "    <tr>\n",
       "      <th>49</th>\n",
       "      <td>2020-11-04 00:11:51+00:00</td>\n",
       "      <td>Eric Irizarry</td>\n",
       "      <td>Trump has always been loyal, and I stand by him.</td>\n",
       "      <td>4</td>\n",
       "      <td>0</td>\n",
       "      <td>UCA1A5GqCdQ</td>\n",
       "      <td>Final 2020 Presidential Debate Between Donald ...</td>\n",
       "      <td>2020-10-23 03:20:53+00:00</td>\n",
       "      <td>en</td>\n",
       "      <td>0.999995</td>\n",
       "      <td>trump loyal stand</td>\n",
       "      <td>trump loyal stand</td>\n",
       "      <td>10</td>\n",
       "      <td>0.333333</td>\n",
       "      <td>0.833333</td>\n",
       "    </tr>\n",
       "    <tr>\n",
       "      <th>50</th>\n",
       "      <td>2020-11-03 22:04:55+00:00</td>\n",
       "      <td>HearthTheSkyWing XD</td>\n",
       "      <td>everyone for the election JOE BIDEN or DONALD ...</td>\n",
       "      <td>13</td>\n",
       "      <td>43</td>\n",
       "      <td>UCA1A5GqCdQ</td>\n",
       "      <td>Final 2020 Presidential Debate Between Donald ...</td>\n",
       "      <td>2020-10-23 03:20:53+00:00</td>\n",
       "      <td>en</td>\n",
       "      <td>0.999997</td>\n",
       "      <td>election joe biden donald trump nthe candidate</td>\n",
       "      <td>election joe biden donald trump the candidate</td>\n",
       "      <td>14</td>\n",
       "      <td>-0.125000</td>\n",
       "      <td>0.375000</td>\n",
       "    </tr>\n",
       "    <tr>\n",
       "      <th>51</th>\n",
       "      <td>2020-11-03 16:11:40+00:00</td>\n",
       "      <td>Karen ._Yass</td>\n",
       "      <td>And every thing Donald J Trump is saying about...</td>\n",
       "      <td>1</td>\n",
       "      <td>0</td>\n",
       "      <td>UCA1A5GqCdQ</td>\n",
       "      <td>Final 2020 Presidential Debate Between Donald ...</td>\n",
       "      <td>2020-10-23 03:20:53+00:00</td>\n",
       "      <td>en</td>\n",
       "      <td>0.999996</td>\n",
       "      <td>thing donald trump saying lie possibly possibl...</td>\n",
       "      <td>thing donald trump saying lie possibly possibl...</td>\n",
       "      <td>188</td>\n",
       "      <td>0.145000</td>\n",
       "      <td>0.558333</td>\n",
       "    </tr>\n",
       "    <tr>\n",
       "      <th>...</th>\n",
       "      <td>...</td>\n",
       "      <td>...</td>\n",
       "      <td>...</td>\n",
       "      <td>...</td>\n",
       "      <td>...</td>\n",
       "      <td>...</td>\n",
       "      <td>...</td>\n",
       "      <td>...</td>\n",
       "      <td>...</td>\n",
       "      <td>...</td>\n",
       "      <td>...</td>\n",
       "      <td>...</td>\n",
       "      <td>...</td>\n",
       "      <td>...</td>\n",
       "      <td>...</td>\n",
       "    </tr>\n",
       "    <tr>\n",
       "      <th>4421</th>\n",
       "      <td>2020-11-07 19:21:48+00:00</td>\n",
       "      <td>Majestic</td>\n",
       "      <td>Firstly, we need to understand: unsolicited ba...</td>\n",
       "      <td>0</td>\n",
       "      <td>0</td>\n",
       "      <td>KravPVeqTCc</td>\n",
       "      <td>Joe Biden defeats Donald Trump to become 46th ...</td>\n",
       "      <td>2020-11-07 16:55:00+00:00</td>\n",
       "      <td>en</td>\n",
       "      <td>0.999998</td>\n",
       "      <td>firstly need understand unsolicited ballot mai...</td>\n",
       "      <td>firstly need understand unsolicited ballot mai...</td>\n",
       "      <td>315</td>\n",
       "      <td>0.024449</td>\n",
       "      <td>0.584283</td>\n",
       "    </tr>\n",
       "    <tr>\n",
       "      <th>4422</th>\n",
       "      <td>2020-11-07 18:15:59+00:00</td>\n",
       "      <td>Jay H</td>\n",
       "      <td>Oh no, Fox is calling Joe Biden president elec...</td>\n",
       "      <td>0</td>\n",
       "      <td>0</td>\n",
       "      <td>KravPVeqTCc</td>\n",
       "      <td>Joe Biden defeats Donald Trump to become 46th ...</td>\n",
       "      <td>2020-11-07 16:55:00+00:00</td>\n",
       "      <td>en</td>\n",
       "      <td>0.999997</td>\n",
       "      <td>fox calling joe biden president elect ignoring...</td>\n",
       "      <td>fox calling joe biden president elect ignoring...</td>\n",
       "      <td>21</td>\n",
       "      <td>1.000000</td>\n",
       "      <td>0.900000</td>\n",
       "    </tr>\n",
       "    <tr>\n",
       "      <th>4423</th>\n",
       "      <td>2020-11-07 18:05:39+00:00</td>\n",
       "      <td>Michael</td>\n",
       "      <td>We all know why Joe Biden is rushing to falsel...</td>\n",
       "      <td>0</td>\n",
       "      <td>0</td>\n",
       "      <td>KravPVeqTCc</td>\n",
       "      <td>Joe Biden defeats Donald Trump to become 46th ...</td>\n",
       "      <td>2020-11-07 16:55:00+00:00</td>\n",
       "      <td>en</td>\n",
       "      <td>0.999995</td>\n",
       "      <td>know joe biden rushing falsely pose winner med...</td>\n",
       "      <td>know joe biden rushing falsely pose winner med...</td>\n",
       "      <td>259</td>\n",
       "      <td>0.048623</td>\n",
       "      <td>0.499151</td>\n",
       "    </tr>\n",
       "    <tr>\n",
       "      <th>4424</th>\n",
       "      <td>2020-11-07 17:20:35+00:00</td>\n",
       "      <td>Vesa Kaitera</td>\n",
       "      <td>I is highly likely, that Joe Biden will win, b...</td>\n",
       "      <td>2</td>\n",
       "      <td>9</td>\n",
       "      <td>KravPVeqTCc</td>\n",
       "      <td>Joe Biden defeats Donald Trump to become 46th ...</td>\n",
       "      <td>2020-11-07 16:55:00+00:00</td>\n",
       "      <td>en</td>\n",
       "      <td>0.999995</td>\n",
       "      <td>highly likely joe biden win point wait thing d...</td>\n",
       "      <td>highly likely joe biden win point wait thing d...</td>\n",
       "      <td>158</td>\n",
       "      <td>0.363182</td>\n",
       "      <td>0.550000</td>\n",
       "    </tr>\n",
       "    <tr>\n",
       "      <th>4425</th>\n",
       "      <td>2020-11-07 17:03:05+00:00</td>\n",
       "      <td>Henry Revers</td>\n",
       "      <td>President Donald Trump please keep fighting on...</td>\n",
       "      <td>0</td>\n",
       "      <td>0</td>\n",
       "      <td>KravPVeqTCc</td>\n",
       "      <td>Joe Biden defeats Donald Trump to become 46th ...</td>\n",
       "      <td>2020-11-07 16:55:00+00:00</td>\n",
       "      <td>en</td>\n",
       "      <td>0.999994</td>\n",
       "      <td>president donald trump fighting found win grac...</td>\n",
       "      <td>president donald trump fighting found win grac...</td>\n",
       "      <td>388</td>\n",
       "      <td>0.036407</td>\n",
       "      <td>0.454166</td>\n",
       "    </tr>\n",
       "  </tbody>\n",
       "</table>\n",
       "<p>3363 rows × 15 columns</p>\n",
       "</div>"
      ],
      "text/plain": [
       "                published_time               author  \\\n",
       "46   2020-11-13 07:24:44+00:00        Peoples voice   \n",
       "47   2020-11-10 03:59:37+00:00        Peoples voice   \n",
       "49   2020-11-04 00:11:51+00:00        Eric Irizarry   \n",
       "50   2020-11-03 22:04:55+00:00  HearthTheSkyWing XD   \n",
       "51   2020-11-03 16:11:40+00:00         Karen ._Yass   \n",
       "...                        ...                  ...   \n",
       "4421 2020-11-07 19:21:48+00:00             Majestic   \n",
       "4422 2020-11-07 18:15:59+00:00                Jay H   \n",
       "4423 2020-11-07 18:05:39+00:00              Michael   \n",
       "4424 2020-11-07 17:20:35+00:00         Vesa Kaitera   \n",
       "4425 2020-11-07 17:03:05+00:00         Henry Revers   \n",
       "\n",
       "                                                comment  reply_count  \\\n",
       "46    US elections 2020 Joe Biden vs Donald Trump,ht...            0   \n",
       "47    US elections 2020 Joe Biden vs Donald Trump\\nh...            0   \n",
       "49     Trump has always been loyal, and I stand by him.            4   \n",
       "50    everyone for the election JOE BIDEN or DONALD ...           13   \n",
       "51    And every thing Donald J Trump is saying about...            1   \n",
       "...                                                 ...          ...   \n",
       "4421  Firstly, we need to understand: unsolicited ba...            0   \n",
       "4422  Oh no, Fox is calling Joe Biden president elec...            0   \n",
       "4423  We all know why Joe Biden is rushing to falsel...            0   \n",
       "4424  I is highly likely, that Joe Biden will win, b...            2   \n",
       "4425  President Donald Trump please keep fighting on...            0   \n",
       "\n",
       "      like_count      videoId  \\\n",
       "46             0  UCA1A5GqCdQ   \n",
       "47             0  UCA1A5GqCdQ   \n",
       "49             0  UCA1A5GqCdQ   \n",
       "50            43  UCA1A5GqCdQ   \n",
       "51             0  UCA1A5GqCdQ   \n",
       "...          ...          ...   \n",
       "4421           0  KravPVeqTCc   \n",
       "4422           0  KravPVeqTCc   \n",
       "4423           0  KravPVeqTCc   \n",
       "4424           9  KravPVeqTCc   \n",
       "4425           0  KravPVeqTCc   \n",
       "\n",
       "                                             videotitle  \\\n",
       "46    Final 2020 Presidential Debate Between Donald ...   \n",
       "47    Final 2020 Presidential Debate Between Donald ...   \n",
       "49    Final 2020 Presidential Debate Between Donald ...   \n",
       "50    Final 2020 Presidential Debate Between Donald ...   \n",
       "51    Final 2020 Presidential Debate Between Donald ...   \n",
       "...                                                 ...   \n",
       "4421  Joe Biden defeats Donald Trump to become 46th ...   \n",
       "4422  Joe Biden defeats Donald Trump to become 46th ...   \n",
       "4423  Joe Biden defeats Donald Trump to become 46th ...   \n",
       "4424  Joe Biden defeats Donald Trump to become 46th ...   \n",
       "4425  Joe Biden defeats Donald Trump to become 46th ...   \n",
       "\n",
       "            videotimepublished language  lang_score  \\\n",
       "46   2020-10-23 03:20:53+00:00       en    0.714283   \n",
       "47   2020-10-23 03:20:53+00:00       en    0.999995   \n",
       "49   2020-10-23 03:20:53+00:00       en    0.999995   \n",
       "50   2020-10-23 03:20:53+00:00       en    0.999997   \n",
       "51   2020-10-23 03:20:53+00:00       en    0.999996   \n",
       "...                        ...      ...         ...   \n",
       "4421 2020-11-07 16:55:00+00:00       en    0.999998   \n",
       "4422 2020-11-07 16:55:00+00:00       en    0.999997   \n",
       "4423 2020-11-07 16:55:00+00:00       en    0.999995   \n",
       "4424 2020-11-07 16:55:00+00:00       en    0.999995   \n",
       "4425 2020-11-07 16:55:00+00:00       en    0.999994   \n",
       "\n",
       "                                             clean_text  \\\n",
       "46                      election joe biden donald trump   \n",
       "47               election joe biden donald trump nhttps   \n",
       "49                                    trump loyal stand   \n",
       "50       election joe biden donald trump nthe candidate   \n",
       "51    thing donald trump saying lie possibly possibl...   \n",
       "...                                                 ...   \n",
       "4421  firstly need understand unsolicited ballot mai...   \n",
       "4422  fox calling joe biden president elect ignoring...   \n",
       "4423  know joe biden rushing falsely pose winner med...   \n",
       "4424  highly likely joe biden win point wait thing d...   \n",
       "4425  president donald trump fighting found win grac...   \n",
       "\n",
       "                                                correct  words  polarity  \\\n",
       "46                      election joe biden donald trump     11  0.000000   \n",
       "47                election joe biden donald trump https     11  0.000000   \n",
       "49                                    trump loyal stand     10  0.333333   \n",
       "50        election joe biden donald trump the candidate     14 -0.125000   \n",
       "51    thing donald trump saying lie possibly possibl...    188  0.145000   \n",
       "...                                                 ...    ...       ...   \n",
       "4421  firstly need understand unsolicited ballot mai...    315  0.024449   \n",
       "4422  fox calling joe biden president elect ignoring...     21  1.000000   \n",
       "4423  know joe biden rushing falsely pose winner med...    259  0.048623   \n",
       "4424  highly likely joe biden win point wait thing d...    158  0.363182   \n",
       "4425  president donald trump fighting found win grac...    388  0.036407   \n",
       "\n",
       "      subjectivity  \n",
       "46        0.000000  \n",
       "47        0.000000  \n",
       "49        0.833333  \n",
       "50        0.375000  \n",
       "51        0.558333  \n",
       "...            ...  \n",
       "4421      0.584283  \n",
       "4422      0.900000  \n",
       "4423      0.499151  \n",
       "4424      0.550000  \n",
       "4425      0.454166  \n",
       "\n",
       "[3363 rows x 15 columns]"
      ]
     },
     "execution_count": 36,
     "metadata": {},
     "output_type": "execute_result"
    }
   ],
   "source": [
    "df"
   ]
  },
  {
   "cell_type": "markdown",
   "id": "detected-nashville",
   "metadata": {},
   "source": [
    "### Data cleansing"
   ]
  },
  {
   "cell_type": "code",
   "execution_count": 37,
   "id": "surrounded-chase",
   "metadata": {},
   "outputs": [],
   "source": [
    "df['clean_text'] = df.comment.apply(lambda x: f_lemat(x))"
   ]
  },
  {
   "cell_type": "code",
   "execution_count": 38,
   "id": "embedded-inspiration",
   "metadata": {},
   "outputs": [],
   "source": [
    "df['words'] = df.comment.apply(slowa)"
   ]
  },
  {
   "cell_type": "code",
   "execution_count": 39,
   "id": "alpha-argentina",
   "metadata": {},
   "outputs": [
    {
     "name": "stdout",
     "output_type": "stream",
     "text": [
      "Maximum number of words: 1771\n",
      "The minimum number of words: 3\n",
      "Average word count: 141.25661611656258\n",
      "Median number of words: 45.0\n"
     ]
    }
   ],
   "source": [
    "print(f'Maximum number of words: {df.words.max()}\\nThe minimum number of words: {df.words.min()}\\nAverage word count: {df.words.mean()}\\nMedian number of words: {df.words.median()}')"
   ]
  },
  {
   "cell_type": "code",
   "execution_count": 40,
   "id": "inclusive-enemy",
   "metadata": {},
   "outputs": [],
   "source": [
    "words = df.sort_values(by='words',ascending=False).reset_index()\n",
    "words.drop(['index'],inplace=True,axis=1)"
   ]
  },
  {
   "cell_type": "code",
   "execution_count": 41,
   "id": "convinced-accessory",
   "metadata": {},
   "outputs": [
    {
     "data": {
      "image/png": "[encoded data removed]",
      "text/plain": [
       "<Figure size 1440x576 with 1 Axes>"
      ]
     },
     "metadata": {
      "needs_background": "light"
     },
     "output_type": "display_data"
    }
   ],
   "source": [
    "plt.figure(figsize=(20,8))\n",
    "sns.barplot(data=words[:20],x=words.index[:20],y='words');"
   ]
  },
  {
   "cell_type": "code",
   "execution_count": 42,
   "id": "addressed-ghana",
   "metadata": {},
   "outputs": [
    {
     "data": {
      "text/html": [
       "<div>\n",
       "<style scoped>\n",
       "    .dataframe tbody tr th:only-of-type {\n",
       "        vertical-align: middle;\n",
       "    }\n",
       "\n",
       "    .dataframe tbody tr th {\n",
       "        vertical-align: top;\n",
       "    }\n",
       "\n",
       "    .dataframe thead th {\n",
       "        text-align: right;\n",
       "    }\n",
       "</style>\n",
       "<table border=\"1\" class=\"dataframe\">\n",
       "  <thead>\n",
       "    <tr style=\"text-align: right;\">\n",
       "      <th></th>\n",
       "      <th>count</th>\n",
       "      <th>mean</th>\n",
       "      <th>std</th>\n",
       "      <th>min</th>\n",
       "      <th>25%</th>\n",
       "      <th>50%</th>\n",
       "      <th>75%</th>\n",
       "      <th>max</th>\n",
       "    </tr>\n",
       "  </thead>\n",
       "  <tbody>\n",
       "    <tr>\n",
       "      <th>reply_count</th>\n",
       "      <td>3363.0</td>\n",
       "      <td>20.720488</td>\n",
       "      <td>58.064902</td>\n",
       "      <td>0.00000</td>\n",
       "      <td>0.000000</td>\n",
       "      <td>0.000000</td>\n",
       "      <td>10.000000</td>\n",
       "      <td>500.0</td>\n",
       "    </tr>\n",
       "    <tr>\n",
       "      <th>like_count</th>\n",
       "      <td>3363.0</td>\n",
       "      <td>305.573892</td>\n",
       "      <td>1840.214820</td>\n",
       "      <td>0.00000</td>\n",
       "      <td>0.000000</td>\n",
       "      <td>1.000000</td>\n",
       "      <td>40.000000</td>\n",
       "      <td>52759.0</td>\n",
       "    </tr>\n",
       "    <tr>\n",
       "      <th>lang_score</th>\n",
       "      <td>3363.0</td>\n",
       "      <td>0.994787</td>\n",
       "      <td>0.040067</td>\n",
       "      <td>0.42857</td>\n",
       "      <td>0.999996</td>\n",
       "      <td>0.999997</td>\n",
       "      <td>0.999998</td>\n",
       "      <td>1.0</td>\n",
       "    </tr>\n",
       "    <tr>\n",
       "      <th>words</th>\n",
       "      <td>3363.0</td>\n",
       "      <td>141.256616</td>\n",
       "      <td>251.356197</td>\n",
       "      <td>3.00000</td>\n",
       "      <td>19.000000</td>\n",
       "      <td>45.000000</td>\n",
       "      <td>138.000000</td>\n",
       "      <td>1771.0</td>\n",
       "    </tr>\n",
       "    <tr>\n",
       "      <th>polarity</th>\n",
       "      <td>3363.0</td>\n",
       "      <td>0.077836</td>\n",
       "      <td>0.262246</td>\n",
       "      <td>-1.00000</td>\n",
       "      <td>-0.003238</td>\n",
       "      <td>0.047161</td>\n",
       "      <td>0.183547</td>\n",
       "      <td>1.0</td>\n",
       "    </tr>\n",
       "    <tr>\n",
       "      <th>subjectivity</th>\n",
       "      <td>3363.0</td>\n",
       "      <td>0.433429</td>\n",
       "      <td>0.257796</td>\n",
       "      <td>0.00000</td>\n",
       "      <td>0.300000</td>\n",
       "      <td>0.450000</td>\n",
       "      <td>0.575000</td>\n",
       "      <td>1.0</td>\n",
       "    </tr>\n",
       "  </tbody>\n",
       "</table>\n",
       "</div>"
      ],
      "text/plain": [
       "               count        mean          std      min        25%        50%  \\\n",
       "reply_count   3363.0   20.720488    58.064902  0.00000   0.000000   0.000000   \n",
       "like_count    3363.0  305.573892  1840.214820  0.00000   0.000000   1.000000   \n",
       "lang_score    3363.0    0.994787     0.040067  0.42857   0.999996   0.999997   \n",
       "words         3363.0  141.256616   251.356197  3.00000  19.000000  45.000000   \n",
       "polarity      3363.0    0.077836     0.262246 -1.00000  -0.003238   0.047161   \n",
       "subjectivity  3363.0    0.433429     0.257796  0.00000   0.300000   0.450000   \n",
       "\n",
       "                     75%      max  \n",
       "reply_count    10.000000    500.0  \n",
       "like_count     40.000000  52759.0  \n",
       "lang_score      0.999998      1.0  \n",
       "words         138.000000   1771.0  \n",
       "polarity        0.183547      1.0  \n",
       "subjectivity    0.575000      1.0  "
      ]
     },
     "execution_count": 42,
     "metadata": {},
     "output_type": "execute_result"
    }
   ],
   "source": [
    "df.describe().T"
   ]
  },
  {
   "cell_type": "code",
   "execution_count": 43,
   "id": "domestic-stereo",
   "metadata": {},
   "outputs": [
    {
     "name": "stdout",
     "output_type": "stream",
     "text": [
      "<class 'pandas.core.frame.DataFrame'>\n",
      "Int64Index: 3363 entries, 46 to 4425\n",
      "Data columns (total 15 columns):\n",
      " #   Column              Non-Null Count  Dtype              \n",
      "---  ------              --------------  -----              \n",
      " 0   published_time      3363 non-null   datetime64[ns, UTC]\n",
      " 1   author              3363 non-null   object             \n",
      " 2   comment             3363 non-null   object             \n",
      " 3   reply_count         3363 non-null   int32              \n",
      " 4   like_count          3363 non-null   int32              \n",
      " 5   videoId             3363 non-null   object             \n",
      " 6   videotitle          3363 non-null   object             \n",
      " 7   videotimepublished  3363 non-null   datetime64[ns, UTC]\n",
      " 8   language            3363 non-null   object             \n",
      " 9   lang_score          3363 non-null   float64            \n",
      " 10  clean_text          3363 non-null   object             \n",
      " 11  correct             3363 non-null   object             \n",
      " 12  words               3363 non-null   int64              \n",
      " 13  polarity            3363 non-null   float64            \n",
      " 14  subjectivity        3363 non-null   float64            \n",
      "dtypes: datetime64[ns, UTC](2), float64(3), int32(2), int64(1), object(7)\n",
      "memory usage: 394.1+ KB\n"
     ]
    }
   ],
   "source": [
    "df.info()"
   ]
  },
  {
   "cell_type": "code",
   "execution_count": 44,
   "id": "hydraulic-commonwealth",
   "metadata": {},
   "outputs": [
    {
     "data": {
      "text/plain": [
       "published_time        datetime64[ns, UTC]\n",
       "author                             object\n",
       "comment                            object\n",
       "reply_count                         int32\n",
       "like_count                          int32\n",
       "videoId                            object\n",
       "videotitle                         object\n",
       "videotimepublished    datetime64[ns, UTC]\n",
       "language                           object\n",
       "lang_score                        float64\n",
       "clean_text                         object\n",
       "correct                            object\n",
       "words                               int64\n",
       "polarity                          float64\n",
       "subjectivity                      float64\n",
       "dtype: object"
      ]
     },
     "execution_count": 44,
     "metadata": {},
     "output_type": "execute_result"
    }
   ],
   "source": [
    "df.dtypes"
   ]
  },
  {
   "cell_type": "code",
   "execution_count": 45,
   "id": "resident-provider",
   "metadata": {},
   "outputs": [],
   "source": [
    "#df.to_pickle('YT_po_lematyzacji.pkl')"
   ]
  },
  {
   "cell_type": "code",
   "execution_count": 46,
   "id": "exact-tiffany",
   "metadata": {},
   "outputs": [],
   "source": [
    "df = pd.read_pickle('YT_po_lematyzacji.pkl')"
   ]
  },
  {
   "cell_type": "code",
   "execution_count": 47,
   "id": "coordinated-petroleum",
   "metadata": {},
   "outputs": [],
   "source": [
    "sentences = df.correct.values"
   ]
  },
  {
   "cell_type": "code",
   "execution_count": 49,
   "id": "white-sperm",
   "metadata": {},
   "outputs": [],
   "source": [
    "word_count = {}\n",
    "text = ''\n",
    "\n",
    "for tokens in sentences:\n",
    "    for word in word_tokenize(tokens):\n",
    "\n",
    "        if word not in word_count.keys():\n",
    "            word_count[word] = 1\n",
    "        else:\n",
    "            word_count[word] += 1\n",
    "    text += ''.join(tokens)"
   ]
  },
  {
   "cell_type": "code",
   "execution_count": 50,
   "id": "academic-voltage",
   "metadata": {},
   "outputs": [
    {
     "data": {
      "text/plain": [
       "12768"
      ]
     },
     "execution_count": 50,
     "metadata": {},
     "output_type": "execute_result"
    }
   ],
   "source": [
    "len(word_count)"
   ]
  },
  {
   "cell_type": "code",
   "execution_count": 51,
   "id": "limiting-apartment",
   "metadata": {},
   "outputs": [
    {
     "data": {
      "text/plain": [
       "224279"
      ]
     },
     "execution_count": 51,
     "metadata": {},
     "output_type": "execute_result"
    }
   ],
   "source": [
    "len(word_tokenize(text))"
   ]
  },
  {
   "cell_type": "code",
   "execution_count": 52,
   "id": "adjustable-budapest",
   "metadata": {},
   "outputs": [
    {
     "data": {
      "text/plain": [
       "224279"
      ]
     },
     "execution_count": 52,
     "metadata": {},
     "output_type": "execute_result"
    }
   ],
   "source": [
    "len(TextBlob(text).words)"
   ]
  },
  {
   "cell_type": "markdown",
   "id": "smoking-current",
   "metadata": {},
   "source": [
    "## Sentiment analysis"
   ]
  },
  {
   "cell_type": "markdown",
   "id": "powered-elevation",
   "metadata": {},
   "source": [
    "### Polarization of speech"
   ]
  },
  {
   "cell_type": "code",
   "execution_count": 53,
   "id": "corresponding-bailey",
   "metadata": {},
   "outputs": [],
   "source": [
    "polarity = lambda x: TextBlob(x).sentiment.polarity\n",
    "subjectivity = lambda x: TextBlob(x).sentiment.subjectivity"
   ]
  },
  {
   "cell_type": "code",
   "execution_count": 54,
   "id": "magnetic-heath",
   "metadata": {},
   "outputs": [],
   "source": [
    "def sentiment(x):\n",
    "    if x>0:\n",
    "        return 'positive'\n",
    "    if x<0:\n",
    "        return 'negative'\n",
    "    if x==0:\n",
    "        return 'neutral'"
   ]
  },
  {
   "cell_type": "code",
   "execution_count": 55,
   "id": "alternative-dealing",
   "metadata": {},
   "outputs": [],
   "source": [
    "df['polarity'] = df.comment.apply(polarity)\n",
    "df['subjectivity'] = df.comment.apply(subjectivity)"
   ]
  },
  {
   "cell_type": "code",
   "execution_count": 56,
   "id": "divine-coating",
   "metadata": {},
   "outputs": [],
   "source": [
    "df['sentiment'] = df.polarity.apply(lambda x: sentiment(x))"
   ]
  },
  {
   "cell_type": "code",
   "execution_count": 57,
   "id": "abstract-wales",
   "metadata": {},
   "outputs": [
    {
     "data": {
      "text/html": [
       "<div>\n",
       "<style scoped>\n",
       "    .dataframe tbody tr th:only-of-type {\n",
       "        vertical-align: middle;\n",
       "    }\n",
       "\n",
       "    .dataframe tbody tr th {\n",
       "        vertical-align: top;\n",
       "    }\n",
       "\n",
       "    .dataframe thead th {\n",
       "        text-align: right;\n",
       "    }\n",
       "</style>\n",
       "<table border=\"1\" class=\"dataframe\">\n",
       "  <thead>\n",
       "    <tr style=\"text-align: right;\">\n",
       "      <th></th>\n",
       "      <th>published_time</th>\n",
       "      <th>author</th>\n",
       "      <th>comment</th>\n",
       "      <th>reply_count</th>\n",
       "      <th>like_count</th>\n",
       "      <th>videoId</th>\n",
       "      <th>videotitle</th>\n",
       "      <th>videotimepublished</th>\n",
       "      <th>language</th>\n",
       "      <th>lang_score</th>\n",
       "      <th>clean_text</th>\n",
       "      <th>correct</th>\n",
       "      <th>words</th>\n",
       "      <th>polarity</th>\n",
       "      <th>subjectivity</th>\n",
       "      <th>sentiment</th>\n",
       "    </tr>\n",
       "  </thead>\n",
       "  <tbody>\n",
       "    <tr>\n",
       "      <th>46</th>\n",
       "      <td>2020-11-13 07:24:44+00:00</td>\n",
       "      <td>Peoples voice</td>\n",
       "      <td>US elections 2020 Joe Biden vs Donald Trump,ht...</td>\n",
       "      <td>0</td>\n",
       "      <td>0</td>\n",
       "      <td>UCA1A5GqCdQ</td>\n",
       "      <td>Final 2020 Presidential Debate Between Donald ...</td>\n",
       "      <td>2020-10-23 03:20:53+00:00</td>\n",
       "      <td>en</td>\n",
       "      <td>0.999993</td>\n",
       "      <td>election joe biden donald trump</td>\n",
       "      <td>election joe biden donald trump</td>\n",
       "      <td>11</td>\n",
       "      <td>0.0</td>\n",
       "      <td>0.0</td>\n",
       "      <td>neutral</td>\n",
       "    </tr>\n",
       "    <tr>\n",
       "      <th>47</th>\n",
       "      <td>2020-11-10 03:59:37+00:00</td>\n",
       "      <td>Peoples voice</td>\n",
       "      <td>US elections 2020 Joe Biden vs Donald Trump\\nh...</td>\n",
       "      <td>0</td>\n",
       "      <td>0</td>\n",
       "      <td>UCA1A5GqCdQ</td>\n",
       "      <td>Final 2020 Presidential Debate Between Donald ...</td>\n",
       "      <td>2020-10-23 03:20:53+00:00</td>\n",
       "      <td>en</td>\n",
       "      <td>0.714283</td>\n",
       "      <td>election joe biden donald trump nhttps</td>\n",
       "      <td>election joe biden donald trump https</td>\n",
       "      <td>11</td>\n",
       "      <td>0.0</td>\n",
       "      <td>0.0</td>\n",
       "      <td>neutral</td>\n",
       "    </tr>\n",
       "    <tr>\n",
       "      <th>48</th>\n",
       "      <td>2020-11-06 16:50:01+00:00</td>\n",
       "      <td>Sean Simmons</td>\n",
       "      <td>Vote joe Biden Not Donald Trump</td>\n",
       "      <td>0</td>\n",
       "      <td>0</td>\n",
       "      <td>UCA1A5GqCdQ</td>\n",
       "      <td>Final 2020 Presidential Debate Between Donald ...</td>\n",
       "      <td>2020-10-23 03:20:53+00:00</td>\n",
       "      <td>nl</td>\n",
       "      <td>0.999995</td>\n",
       "      <td>vote joe biden donald trump</td>\n",
       "      <td>vote joe biden donald trump</td>\n",
       "      <td>6</td>\n",
       "      <td>0.0</td>\n",
       "      <td>0.0</td>\n",
       "      <td>neutral</td>\n",
       "    </tr>\n",
       "  </tbody>\n",
       "</table>\n",
       "</div>"
      ],
      "text/plain": [
       "              published_time         author  \\\n",
       "46 2020-11-13 07:24:44+00:00  Peoples voice   \n",
       "47 2020-11-10 03:59:37+00:00  Peoples voice   \n",
       "48 2020-11-06 16:50:01+00:00   Sean Simmons   \n",
       "\n",
       "                                              comment  reply_count  \\\n",
       "46  US elections 2020 Joe Biden vs Donald Trump,ht...            0   \n",
       "47  US elections 2020 Joe Biden vs Donald Trump\\nh...            0   \n",
       "48                    Vote joe Biden Not Donald Trump            0   \n",
       "\n",
       "    like_count      videoId  \\\n",
       "46           0  UCA1A5GqCdQ   \n",
       "47           0  UCA1A5GqCdQ   \n",
       "48           0  UCA1A5GqCdQ   \n",
       "\n",
       "                                           videotitle  \\\n",
       "46  Final 2020 Presidential Debate Between Donald ...   \n",
       "47  Final 2020 Presidential Debate Between Donald ...   \n",
       "48  Final 2020 Presidential Debate Between Donald ...   \n",
       "\n",
       "          videotimepublished language  lang_score  \\\n",
       "46 2020-10-23 03:20:53+00:00       en    0.999993   \n",
       "47 2020-10-23 03:20:53+00:00       en    0.714283   \n",
       "48 2020-10-23 03:20:53+00:00       nl    0.999995   \n",
       "\n",
       "                                clean_text  \\\n",
       "46         election joe biden donald trump   \n",
       "47  election joe biden donald trump nhttps   \n",
       "48             vote joe biden donald trump   \n",
       "\n",
       "                                  correct  words  polarity  subjectivity  \\\n",
       "46        election joe biden donald trump     11       0.0           0.0   \n",
       "47  election joe biden donald trump https     11       0.0           0.0   \n",
       "48            vote joe biden donald trump      6       0.0           0.0   \n",
       "\n",
       "   sentiment  \n",
       "46   neutral  \n",
       "47   neutral  \n",
       "48   neutral  "
      ]
     },
     "execution_count": 57,
     "metadata": {},
     "output_type": "execute_result"
    }
   ],
   "source": [
    "df.head(3)"
   ]
  },
  {
   "cell_type": "code",
   "execution_count": 58,
   "id": "guilty-furniture",
   "metadata": {},
   "outputs": [
    {
     "data": {
      "text/plain": [
       "2970"
      ]
     },
     "execution_count": 58,
     "metadata": {},
     "output_type": "execute_result"
    }
   ],
   "source": [
    "df.author.nunique()"
   ]
  },
  {
   "cell_type": "code",
   "execution_count": 59,
   "id": "social-introduction",
   "metadata": {},
   "outputs": [
    {
     "name": "stdout",
     "output_type": "stream",
     "text": [
      "Abner Rigaud \n",
      " positive    30\n",
      "Name: sentiment, dtype: int64\n",
      "Myanmar AHla \n",
      " positive    28\n",
      "Name: sentiment, dtype: int64\n",
      "Mark Gazel \n",
      " positive    14\n",
      "negative     8\n",
      "Name: sentiment, dtype: int64\n",
      "Michael \n",
      " negative    8\n",
      "positive    8\n",
      "Name: sentiment, dtype: int64\n",
      "Brad Hartliep \n",
      " positive    9\n",
      "negative    5\n",
      "Name: sentiment, dtype: int64\n",
      "Dave Mock \n",
      " positive    14\n",
      "Name: sentiment, dtype: int64\n",
      "abdenbi CHIKOUN \n",
      " neutral     5\n",
      "negative    4\n",
      "positive    3\n",
      "Name: sentiment, dtype: int64\n",
      "Roman Vomalsi \n",
      " negative    3\n",
      "positive    3\n",
      "neutral     2\n",
      "Name: sentiment, dtype: int64\n",
      "Harry Steele \n",
      " positive    6\n",
      "negative    1\n",
      "Name: sentiment, dtype: int64\n",
      "Patrick Glass \n",
      " positive    4\n",
      "negative    3\n",
      "Name: sentiment, dtype: int64\n",
      "Mark Cicero \n",
      " positive    6\n",
      "neutral     1\n",
      "Name: sentiment, dtype: int64\n",
      "MR. NOBODY \n",
      " positive    4\n",
      "negative    2\n",
      "Name: sentiment, dtype: int64\n",
      "Joseph jo \n",
      " positive    5\n",
      "negative    1\n",
      "Name: sentiment, dtype: int64\n",
      "Dilip Patel \n",
      " positive    6\n",
      "Name: sentiment, dtype: int64\n",
      "Toni Olson \n",
      " positive    4\n",
      "negative    2\n",
      "Name: sentiment, dtype: int64\n"
     ]
    }
   ],
   "source": [
    "for x in range(0,len(df.author.value_counts())):\n",
    "    if df.author.value_counts()[x]>5:   \n",
    "        print(df.author.value_counts().index[x],'\\n',df[df.author==df.author.value_counts().index[x]]['sentiment'].value_counts())"
   ]
  },
  {
   "cell_type": "code",
   "execution_count": 60,
   "id": "foster-junior",
   "metadata": {},
   "outputs": [
    {
     "data": {
      "text/plain": [
       "positive    30\n",
       "Name: sentiment, dtype: int64"
      ]
     },
     "execution_count": 60,
     "metadata": {},
     "output_type": "execute_result"
    }
   ],
   "source": [
    "df[df.author=='Abner Rigaud']['sentiment'].value_counts()"
   ]
  },
  {
   "cell_type": "code",
   "execution_count": 61,
   "id": "express-sterling",
   "metadata": {},
   "outputs": [
    {
     "data": {
      "text/plain": [
       "positive    28\n",
       "Name: sentiment, dtype: int64"
      ]
     },
     "execution_count": 61,
     "metadata": {},
     "output_type": "execute_result"
    }
   ],
   "source": [
    "df[(df.author=='Myanmar AHla')]['sentiment'].value_counts()"
   ]
  },
  {
   "cell_type": "code",
   "execution_count": 63,
   "id": "mounted-quarterly",
   "metadata": {},
   "outputs": [
    {
     "data": {
      "image/png": "[encoded data removed]",
      "text/plain": [
       "<Figure size 720x576 with 1 Axes>"
      ]
     },
     "metadata": {
      "needs_background": "light"
     },
     "output_type": "display_data"
    }
   ],
   "source": [
    "bar,ax = plt.subplots(figsize=(10,8))\n",
    "ax = sns.barplot(x=df.author.value_counts()[:15],y=df.author.value_counts().index[:15])\n",
    "ax.set_title('Authors with the most comments on YouTube')\n",
    "ax.set_xlabel (\"Number of comments\")\n",
    "ax.set_ylabel (\"Authors of comments\")\n",
    "for rect in ax.patches:\n",
    "    ax.text (rect.get_width(), rect.get_y() + rect.get_height() / 2,\"%.0f\"% rect.get_width(), weight='bold' )"
   ]
  },
  {
   "cell_type": "code",
   "execution_count": 64,
   "id": "instructional-carpet",
   "metadata": {},
   "outputs": [],
   "source": [
    "def sent(x):\n",
    "    if x>0:\n",
    "        return 'positive'\n",
    "    if x<0:\n",
    "        return 'negative'\n",
    "    if x==0:\n",
    "        return 'neutral'"
   ]
  },
  {
   "cell_type": "code",
   "execution_count": 65,
   "id": "broadband-spotlight",
   "metadata": {},
   "outputs": [],
   "source": [
    "df['sentiment'] = df.polarity.apply(lambda x: sent(x) )"
   ]
  },
  {
   "cell_type": "code",
   "execution_count": 66,
   "id": "progressive-insert",
   "metadata": {},
   "outputs": [
    {
     "data": {
      "image/png": "[encoded data removed]",
      "text/plain": [
       "<Figure size 720x432 with 1 Axes>"
      ]
     },
     "metadata": {
      "needs_background": "light"
     },
     "output_type": "display_data"
    }
   ],
   "source": [
    "bar,ax = plt.subplots(figsize=(10,6))\n",
    "ax = sns.barplot(x=df.sentiment.value_counts(),y=df.sentiment.value_counts().index);\n",
    "ax.set_title('Number of comments on YouTube by sentiment')\n",
    "ax.set_xlabel (\"Number of comments\")\n",
    "ax.set_ylabel (\"Sentiment\")\n",
    "for rect in ax.patches:\n",
    "    ax.text (rect.get_width()/2, rect.get_y() + rect.get_height() / 2,\"%.0f\"% rect.get_width(), weight='bold' )"
   ]
  },
  {
   "cell_type": "code",
   "execution_count": 67,
   "id": "likely-resident",
   "metadata": {},
   "outputs": [
    {
     "data": {
      "image/png": "[encoded data removed]",
      "text/plain": [
       "<Figure size 432x288 with 1 Axes>"
      ]
     },
     "metadata": {},
     "output_type": "display_data"
    }
   ],
   "source": [
    "df.sentiment.value_counts().plot(kind='pie', autopct=\"%.1f%%\");"
   ]
  },
  {
   "cell_type": "code",
   "execution_count": 68,
   "id": "engaged-guitar",
   "metadata": {},
   "outputs": [
    {
     "data": {
      "text/plain": [
       "Index(['published_time', 'author', 'comment', 'reply_count', 'like_count',\n",
       "       'videoId', 'videotitle', 'videotimepublished', 'language', 'lang_score',\n",
       "       'clean_text', 'correct', 'words', 'polarity', 'subjectivity',\n",
       "       'sentiment'],\n",
       "      dtype='object')"
      ]
     },
     "execution_count": 68,
     "metadata": {},
     "output_type": "execute_result"
    }
   ],
   "source": [
    "df.columns"
   ]
  },
  {
   "cell_type": "code",
   "execution_count": 69,
   "id": "packed-ladder",
   "metadata": {},
   "outputs": [
    {
     "data": {
      "image/png": "[encoded data removed]",
      "text/plain": [
       "<Figure size 720x576 with 1 Axes>"
      ]
     },
     "metadata": {
      "needs_background": "light"
     },
     "output_type": "display_data"
    }
   ],
   "source": [
    "plt.rcParams['figure.figsize'] = [10, 8]\n",
    "\n",
    "plt.scatter(df.polarity, df.subjectivity,alpha=.5) \n",
    "plt.title('Analysis of the sentiment of YouTube comments.', fontsize=20)\n",
    "plt.xlabel('<-- Negative -------- Positive -->', fontsize=15)\n",
    "plt.ylabel('<-- Objective ------ Subjective -->', fontsize=15)\n",
    "\n",
    "plt.show()"
   ]
  }
 ],
 "metadata": {
  "kernelspec": {
   "display_name": "mix",
   "language": "python",
   "name": "mix"
  },
  "language_info": {
   "codemirror_mode": {
    "name": "ipython",
    "version": 3
   },
   "file_extension": ".py",
   "mimetype": "text/x-python",
   "name": "python",
   "nbconvert_exporter": "python",
   "pygments_lexer": "ipython3",
   "version": "3.8.6"
  }
 },
 "nbformat": 4,
 "nbformat_minor": 5
}
